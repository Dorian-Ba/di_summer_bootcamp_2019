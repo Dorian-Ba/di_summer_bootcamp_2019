{
 "cells": [
  {
   "cell_type": "markdown",
   "metadata": {},
   "source": [
    "# Data structures"
   ]
  },
  {
   "cell_type": "markdown",
   "metadata": {},
   "source": [
    "Introduction: A data structure is a collection of data values. In the Python programming language, there are a total of 4 inbuilt data structures. These are namely list, tuple, dictionary, and set."
   ]
  },
  {
   "cell_type": "markdown",
   "metadata": {},
   "source": [
    "## List\n",
    "\n",
    "- an ordered collection of items \n",
    "- put all the items, separated by commas, in square brackets\n",
    "- can have any number of elements and of different data types\n",
    "- syntax of a list is: some_list = [item 1, item 2, item 3,….., item n]\n",
    "- list are mutable because it can be altered"
   ]
  },
  {
   "cell_type": "markdown",
   "metadata": {},
   "source": [
    "## Tuple\n",
    "\n",
    "Similar to a list excepted:\n",
    "- tuples are immutable. they can’t be modified\n",
    "- separated by commas and can be surrounded by parentheses but optional\n",
    "- syntax of a tuple is: some_tuple = (item 1, item 2, item 3,….., item n) "
   ]
  },
  {
   "cell_type": "markdown",
   "metadata": {},
   "source": [
    "## Set\n",
    "- Set is a collection which is unordered and unindexed. No duplicate members.\n",
    "- syntax of a set is: ome_set = {value 1, value 2, value 3,…., value n}\n"
   ]
  },
  {
   "cell_type": "code",
   "execution_count": 4,
   "metadata": {},
   "outputs": [
    {
     "name": "stdout",
     "output_type": "stream",
     "text": [
      "{1, 2, 3, 4, 5, 6}\n",
      "[1, 2, 3, 4, 5, 6]\n"
     ]
    }
   ],
   "source": [
    "mylist=[1,2,3,4,4,5,6,5]\n",
    "myset=set(mylist)\n",
    "print(myset)\n",
    "mylist=list(myset)\n",
    "print(mylist)"
   ]
  },
  {
   "cell_type": "code",
   "execution_count": 5,
   "metadata": {},
   "outputs": [
    {
     "name": "stdout",
     "output_type": "stream",
     "text": [
      "{('aaaab', 'aaa@gmail.com'), ('aaaa', 'aaa@gmail.com')}\n",
      "[('aaaab', 'aaa@gmail.com'), ('aaaa', 'aaa@gmail.com')]\n"
     ]
    }
   ],
   "source": [
    "mylist=[('aaaa','aaa@gmail.com'),('aaaab','aaa@gmail.com'),('aaaa','aaa@gmail.com')]\n",
    "myset=set(mylist)\n",
    "print(myset)\n",
    "mylist=list(myset)\n",
    "print(mylist)"
   ]
  },
  {
   "cell_type": "markdown",
   "metadata": {},
   "source": [
    "## Dictionary\n",
    "- dictionaries are indexed by keys \n",
    "- dictionaries are mutable since they can be modified\n",
    "- an unordered set of key and value pairs,\n",
    "- syntax of a tuple is: ome_dic = {key 1 : value 1, key 2 : value 2, key 3 : value 3,…., key n : value n}"
   ]
  },
  {
   "cell_type": "markdown",
   "metadata": {},
   "source": [
    "## Summary\n",
    "There are four collection data types in the Python programming language:\n",
    "\n",
    "- List is a collection which is ordered and changeable. Allows duplicate members.\n",
    "- Tuple is a collection which is ordered and unchangeable. Allows duplicate members.\n",
    "- Set is a collection which is unordered and unindexed. No duplicate members.\n",
    "- Dictionary is a collection which is unordered, changeable and indexed. No duplicate members."
   ]
  },
  {
   "cell_type": "code",
   "execution_count": null,
   "metadata": {},
   "outputs": [],
   "source": []
  }
 ],
 "metadata": {
  "kernelspec": {
   "display_name": "Python 3",
   "language": "python",
   "name": "python3"
  },
  "language_info": {
   "codemirror_mode": {
    "name": "ipython",
    "version": 3
   },
   "file_extension": ".py",
   "mimetype": "text/x-python",
   "name": "python",
   "nbconvert_exporter": "python",
   "pygments_lexer": "ipython3",
   "version": "3.7.3"
  }
 },
 "nbformat": 4,
 "nbformat_minor": 2
}
