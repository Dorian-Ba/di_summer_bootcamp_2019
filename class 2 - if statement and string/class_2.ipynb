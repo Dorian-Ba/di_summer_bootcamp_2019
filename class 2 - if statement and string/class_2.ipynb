{
 "cells": [
  {
   "cell_type": "markdown",
   "metadata": {},
   "source": [
    "## PyCharm IDE\n",
    "\n",
    "An integrated development environment (IDE) is a software application that provides comprehensive facilities to computer programmers for software development. \n",
    "\n",
    "It contains:\n",
    "- text editor \n",
    "- compiler - tranform your source code to binary code\n",
    "- debugger - tools to test and debug program\n",
    "\n",
    "\n",
    "PyCharm is the most popular IDE used for Python language.\n",
    "\n",
    "### How to use PyCharm\n",
    "\n",
    "__Step 1__ - Download  community package PyCharm from  https://www.jetbrains.com/pycharm<br>\n",
    "__Step 2__ - Create a new project by clicking on File > New Project<br>\n",
    "__Step 3__ - From \"Create project\" windows give a project name from Location field and select the version of your python interpreter<br>\n",
    "__Step 4__ - Create a new file \"helloworld.py\"<br>\n",
    "__Step 5__ - From the text editor add the statement print('hello world')<br>\n",
    "__Step 6__ - Right click on the file and click on run<br>\n",
    "\n",
    "\n",
    "\n",
    "\n"
   ]
  },
  {
   "cell_type": "markdown",
   "metadata": {},
   "source": [
    "## Focus on string\n",
    "\n",
    "\n",
    "\n",
    "- 'hello' is the same as \"hello\".\n",
    "- Display a string literal with the print() function\n",
    "- String is an array of characters\n",
    "- Square brackets can be used to access elements of the string.\n",
    "```python\n",
    "a = \"Hello, World!\"\n",
    "print(a[1])\n",
    "```\n",
    "- Substring. Get the characters from position 2 to position 5 (not included):\n",
    "```python\n",
    "a = \"Hello, World!\"\n",
    "print(a[2:5])\n",
    "```\n",
    "- len() method returns the length of a string\n",
    "```python\n",
    "len(a)\n",
    "```\n",
    "- lower() method returns the string in lower case\n",
    "- upper() method returns the string in upper case\n",
    "\n",
    "\n",
    "The backslash \\ character is used for characters having a special meaning\n",
    "\n",
    "- '\\n': Add a newline\n",
    "- '\\t': Add a tab\n",
    "\n"
   ]
  },
  {
   "cell_type": "code",
   "execution_count": 5,
   "metadata": {},
   "outputs": [
    {
     "name": "stdout",
     "output_type": "stream",
     "text": [
      "hello\tworld\n"
     ]
    }
   ],
   "source": [
    "a=\"hello\\tworld\"\n",
    "print(a)"
   ]
  },
  {
   "cell_type": "code",
   "execution_count": 11,
   "metadata": {},
   "outputs": [
    {
     "name": "stdout",
     "output_type": "stream",
     "text": [
      "hello\tworld\n"
     ]
    }
   ],
   "source": [
    "\n",
    "print('a')\n"
   ]
  },
  {
   "cell_type": "markdown",
   "metadata": {},
   "source": [
    "## Exercise  – Strings\n",
    "1. Get a string from the user. The user must provide a string that is 5 characters long.\n",
    "2. Inform the user what the first and last characters of the string are\n",
    "3. Print the first character, then the first 2, then the first 3, etc., until you print the entire string. \n",
    "4. Print each character is printed in a new line and the print function should be used only once"
   ]
  },
  {
   "cell_type": "code",
   "execution_count": 18,
   "metadata": {},
   "outputs": [
    {
     "name": "stdout",
     "output_type": "stream",
     "text": [
      "Type a word:12345\n",
      "The first letter is :1\n",
      "The last letter is:5\n",
      "The first letter is :1 the last letter is: 5\n",
      "1\n",
      "12\n",
      "123\n",
      "1234\n",
      "1\n",
      "2\n",
      "3\n",
      "4\n"
     ]
    }
   ],
   "source": [
    "# step 1\n",
    "word=input(\"Type a word:\")\n",
    "\n",
    "#step 2\n",
    "#solution 1\n",
    "print(\"The first letter is :\"+word[0]) \n",
    "print(\"The last letter is:\"+word[4])\n",
    "\n",
    "#solution 2\n",
    "print(\"The first letter is :\"+word[0]+\" the last letter is: \"+word[4])\n",
    "\n",
    "#step 3\n",
    "temporary=word[0]+'\\n'+word[0:2]+'\\n'+word[0:3]+'\\n'+word[0:4]\n",
    "print(temporary)\n",
    "\n",
    "#step 4\n",
    "temporary=word[0]+'\\n'+word[1]+'\\n'+word[2]+'\\n'+word[3]\n",
    "print(temporary)\n",
    "\n",
    "\n",
    "\n",
    "\n"
   ]
  },
  {
   "cell_type": "markdown",
   "metadata": {},
   "source": [
    "## Exercise  – Strings\n",
    "1. Get a string from the user. \n",
    "2. Inform the user what the first and last characters of the string are"
   ]
  },
  {
   "cell_type": "code",
   "execution_count": 21,
   "metadata": {},
   "outputs": [
    {
     "name": "stdout",
     "output_type": "stream",
     "text": [
      "Type a word:dorian\n",
      "First letter is d and last letter is n\n"
     ]
    }
   ],
   "source": [
    "word=input(\"Type a word:\")\n",
    "first_letter=word[0]\n",
    "\n",
    "size_word=len(word)\n",
    "last_letter=word[size_word-1]\n",
    "print(\"First letter is \"+first_letter+\" and last letter is \"+last_letter)"
   ]
  },
  {
   "cell_type": "markdown",
   "metadata": {},
   "source": [
    "## Exercise – Strings\n",
    "1 - Get a string from the user <br>\n",
    "2 - Calculate the length of a string. <br>\n",
    "3 - Print the size of the string<br>\n",
    "4 - Print the string in lower case<br>\n",
    "5 - Print the string in upper case<br>\n"
   ]
  },
  {
   "cell_type": "code",
   "execution_count": 23,
   "metadata": {},
   "outputs": [
    {
     "name": "stdout",
     "output_type": "stream",
     "text": [
      "Type a word:dorian\n",
      "6\n",
      "dorian\n",
      "DORIAN\n"
     ]
    }
   ],
   "source": [
    "word=input(\"Type a word:\")\n",
    "size=len(word)\n",
    "size_str=str(size)\n",
    "print(size_str)\n",
    "print(word.lower())\n",
    "print(word.upper())\n",
    "\n"
   ]
  },
  {
   "cell_type": "markdown",
   "metadata": {},
   "source": [
    "## Python Comparison Operators\n",
    "Comparison operators are used to compare two values. \n",
    "The result of a comparaison is a condition which return a bool value \n",
    "\n",
    "<li> <b>==</b> :Equal\tx == y\t</li>\n",
    "<li> <b>!=</b> :Not equal\tx != y\t</li>\n",
    "<li> <b>></b> :Greater than\tx > y\t</li>\n",
    "<li> <b><</b> :Less than\tx < y\t</li>\n",
    "<li> <b>>=</b>:Greater than or equal to\tx >= y</li>\t\n",
    "<li> <b><=</b>:Less than or equal to\tx <= y</li>"
   ]
  },
  {
   "cell_type": "code",
   "execution_count": 25,
   "metadata": {},
   "outputs": [
    {
     "name": "stdout",
     "output_type": "stream",
     "text": [
      "True\n"
     ]
    }
   ],
   "source": [
    "a=(5==5)\n",
    "print(a)"
   ]
  },
  {
   "cell_type": "markdown",
   "metadata": {},
   "source": [
    "## Exercice\n",
    "1 - Ask age from user<br>\n",
    "2 - Display True if age is superior or equal to 18 else False\n"
   ]
  },
  {
   "cell_type": "code",
   "execution_count": 27,
   "metadata": {},
   "outputs": [
    {
     "name": "stdout",
     "output_type": "stream",
     "text": [
      "what is your age ? 17\n",
      "False\n"
     ]
    }
   ],
   "source": [
    "age=input(\"what is your age ? \")\n",
    "age_int=int(age)\n",
    "condition_value=(age_int>=18)\n",
    "print(condition_value)\n"
   ]
  },
  {
   "cell_type": "markdown",
   "metadata": {},
   "source": [
    "## Exercice\n",
    "1 - Ask 2 number from user<br>\n",
    "2 - Display True if the first number is superior to the second number\n"
   ]
  },
  {
   "cell_type": "code",
   "execution_count": null,
   "metadata": {},
   "outputs": [],
   "source": [
    "number1=input(\"insert first number:\")\n",
    "number1=int(number1)\n",
    "\n",
    "number2=input(\"insert second number:\")\n",
    "number2=int(number2)\n",
    "\n",
    "condition=(number1>number2)\n",
    "print(condition)\n",
    "\n"
   ]
  },
  {
   "cell_type": "markdown",
   "metadata": {},
   "source": [
    "## If statement\n",
    "\n",
    "Condition can be used in several ways, most commonly in \"if statements\".\n",
    "\n",
    "if statement tests for a condition, and then responds to that condition. If the condition is true, then whatever action is listed next gets carried out. \n",
    "\n",
    "__Simple condition__\n",
    "```python\n",
    "if (condition):\n",
    "    #do something\n",
    "```\n",
    "__Full condition__\n",
    "```python\n",
    "if (condition):\n",
    "    #do something\n",
    "else:\n",
    "    #do something else\n",
    "```\n"
   ]
  },
  {
   "cell_type": "markdown",
   "metadata": {},
   "source": [
    "## Exercice\n",
    "1- Ask gender (male or female) to the user <br>\n",
    "2- Ask age to the user<br>\n",
    "3- Print \"Your cat is male\" if gender is male else \"Your cat is female\"<br>\n",
    "4- Print \"Your cat is adult\" if age is superior or equal to 18 else \"Your cat is young\"<br>"
   ]
  },
  {
   "cell_type": "code",
   "execution_count": 36,
   "metadata": {},
   "outputs": [
    {
     "name": "stdout",
     "output_type": "stream",
     "text": [
      "hello\n"
     ]
    }
   ],
   "source": [
    "a=\"abc\"\n",
    "b=\"abc\"\n",
    "if(a==b):\n",
    "    print(\"hello\")\n"
   ]
  },
  {
   "cell_type": "code",
   "execution_count": null,
   "metadata": {},
   "outputs": [],
   "source": []
  }
 ],
 "metadata": {
  "kernelspec": {
   "display_name": "Python 3",
   "language": "python",
   "name": "python3"
  },
  "language_info": {
   "codemirror_mode": {
    "name": "ipython",
    "version": 3
   },
   "file_extension": ".py",
   "mimetype": "text/x-python",
   "name": "python",
   "nbconvert_exporter": "python",
   "pygments_lexer": "ipython3",
   "version": "3.7.3"
  }
 },
 "nbformat": 4,
 "nbformat_minor": 2
}
