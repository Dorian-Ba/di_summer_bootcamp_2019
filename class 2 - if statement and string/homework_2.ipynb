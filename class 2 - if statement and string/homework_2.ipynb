{
 "cells": [
  {
   "cell_type": "markdown",
   "metadata": {},
   "source": [
    "## Exercise  – Calculate formula\n",
    "Write a Python program that accepts a number (n) from user and computes the value of n+nn+nnn. \n",
    "\n",
    "Example: if user type 5 then the program should compute 5+55+555 and display into the console the result.\n",
    "\n",
    "\n",
    "\n",
    "If input is  5 <br>\n",
    "Expected Result : 615"
   ]
  },
  {
   "cell_type": "markdown",
   "metadata": {},
   "source": [
    "## Exercise  – Bar Calculator\n",
    "1. Your code will print out the bill for a customer, with the help of the waiter/waitress.\n",
    "2. It will first ask some questions, and then print out the bill.\n",
    "3. Store the answers to the questions in variables, so that they can be used later on in your code.\n",
    "4. Ask the user (waiter) for each of these pieces of information, assuming that the customer\n",
    "ordered only one item (but multiple orders of the same item are allowed):\n",
    "1. The customer’s name (this is a friendly bar!)\n",
    "2. The name of the waiter/waitress\n",
    "3. The name of the item (eg. ‘beer’)\n",
    "4. The price of the item\n",
    "5. The amount of items that were ordered (eg. 3, when the customer had 3 beers)\n",
    "6. The discount amount (user should input zero if there was no discount)\n",
    "5. Now calculate the total to charge the customer\n",
    "6. Print out a nicely formatted bill for the user, on multiple lines. Add some lines of stars or\n",
    "hyphens to create the effect of a ‘border’ or ‘line’, to make it look more professional.\n",
    "7. Use at least one multi-line string in your output. Use string formatting (f-strings)\n"
   ]
  }
 ],
 "metadata": {
  "kernelspec": {
   "display_name": "Python 3",
   "language": "python",
   "name": "python3"
  },
  "language_info": {
   "codemirror_mode": {
    "name": "ipython",
    "version": 3
   },
   "file_extension": ".py",
   "mimetype": "text/x-python",
   "name": "python",
   "nbconvert_exporter": "python",
   "pygments_lexer": "ipython3",
   "version": "3.7.3"
  }
 },
 "nbformat": 4,
 "nbformat_minor": 2
}
