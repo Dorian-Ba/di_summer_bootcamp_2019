{
 "cells": [
  {
   "cell_type": "markdown",
   "metadata": {},
   "source": [
    "## Dictionary\n",
    "A dictionary is a collection of key/value which is \n",
    "- unordered \n",
    "- changeable \n",
    "- indexed (with the key)\n",
    "\n",
    "In Python dictionaries are written with curly brackets, and they have keys and values.\n",
    "\n",
    "```python\n",
    "thisdict =\t{\n",
    "  \"brand\": \"Ford\",\n",
    "  \"model\": \"Mustang\",\n",
    "  \"year\": 1964\n",
    "}\n",
    "print(thisdict)\n",
    "```\n",
    "\n",
    "### Accessing Items\n",
    "You can access the items of a dictionary by referring to its key name, inside square brackets:\n",
    "\n",
    "__Example__\n",
    "Get the value of the \"model\" key:\n",
    "```python\n",
    "x = thisdict[\"model\"]\n",
    "```\n",
    "\n",
    "### Change Values\n",
    "You can change the value of a specific item by referring to its key name:\n",
    "\n",
    "__Example__\n",
    "Change the \"year\" to 2018:\n",
    "\n",
    "```python\n",
    "thisdict[\"year\"] = 2018\n",
    "```\n",
    "### Loop\n",
    "You can loop through a dictionary by using a for loop:\n"
   ]
  },
  {
   "cell_type": "code",
   "execution_count": null,
   "metadata": {},
   "outputs": [],
   "source": [
    "thisdict ={\n",
    "  \"brand\": \"Ford\",\n",
    "  \"model\": \"Mustang\",\n",
    "  \"year\": 1964\n",
    "}\n",
    "\n",
    "#Loop on keys\n",
    "print(\"==========\\nLoop on keys\")\n",
    "for x in thisdict:\n",
    "  print(x)\n",
    "\n",
    "#Loop on values\n",
    "print(\"==========\\nLoop on values\")\n",
    "for x in thisdict.values():\n",
    "  print(x)\n",
    "\n",
    "#Loop on key/values\n",
    "print(\"==========\\nLoop on keys/values\")\n",
    "for x, y in thisdict.items():\n",
    "  print(x, y)"
   ]
  },
  {
   "cell_type": "markdown",
   "metadata": {},
   "source": [
    "### Adding Items\n",
    "Adding an item to the dictionary is done by using a new index key and assigning a value to it:"
   ]
  },
  {
   "cell_type": "code",
   "execution_count": null,
   "metadata": {},
   "outputs": [],
   "source": [
    "thisdict =    {\n",
    "  \"brand\": \"Ford\",\n",
    "  \"model\": \"Mustang\",\n",
    "  \"year\": 1964\n",
    "}\n",
    "thisdict[\"color\"] = \"red\"\n",
    "print(thisdict)"
   ]
  },
  {
   "cell_type": "markdown",
   "metadata": {},
   "source": [
    "### Removing Items\n",
    "The pop() method removes the item with the specified key name:\n",
    "\n"
   ]
  },
  {
   "cell_type": "code",
   "execution_count": null,
   "metadata": {},
   "outputs": [],
   "source": [
    "thisdict ={\n",
    "  \"brand\": \"Ford\",\n",
    "  \"model\": \"Mustang\",\n",
    "  \"year\": 1964\n",
    "}\n",
    "thisdict.pop(\"model\")\n",
    "print(thisdict)"
   ]
  },
  {
   "cell_type": "markdown",
   "metadata": {},
   "source": [
    "### Exercice - Birthday dictionnary\n",
    "\n",
    "we will keep track of when our friend’s birthdays are, and be able to find that information based on their name.<br>\n",
    "\n",
    "Create a dictionary of names and birthdays. \n",
    "\n",
    "When you run your program it should ask the user to enter a name, and return the birthday of that person back to them. The interaction should look something like this:\n",
    "\n",
    "__Welcome to the birthday dictionary.<br> We know the birthdays of:__<br>\n",
    "__Albert Einstein__<br>\n",
    "__Benjamin Franklin__<br>\n",
    "__Ada Lovelace__<br><br>\n",
    "\n",
    "__Who's birthday do you want to look up?__<br>\n",
    "Benjamin Franklin<br>\n",
    "__Benjamin Franklin's birthday is 01/17/1706.__<br>\n",
    "        \n"
   ]
  },
  {
   "cell_type": "markdown",
   "metadata": {},
   "source": [
    "## Exercice - Birthday part 2\n",
    "Extend your birthday program by allowing to add a new birthday date.<br>\n",
    "To do that you should display first a simple menu:<br>\n",
    "\n",
    "```python\n",
    "Welcome to the birthday dictionary\n",
    "==================================\n",
    "1 - Get a birthday date\n",
    "2 - Add a birthday date\n",
    "3 - Exit birthday dictionnary\n",
    "```\n"
   ]
  },
  {
   "cell_type": "code",
   "execution_count": null,
   "metadata": {},
   "outputs": [],
   "source": []
  }
 ],
 "metadata": {
  "kernelspec": {
   "display_name": "Python 3",
   "language": "python",
   "name": "python3"
  },
  "language_info": {
   "codemirror_mode": {
    "name": "ipython",
    "version": 3
   },
   "file_extension": ".py",
   "mimetype": "text/x-python",
   "name": "python",
   "nbconvert_exporter": "python",
   "pygments_lexer": "ipython3",
   "version": "3.7.3"
  }
 },
 "nbformat": 4,
 "nbformat_minor": 2
}
