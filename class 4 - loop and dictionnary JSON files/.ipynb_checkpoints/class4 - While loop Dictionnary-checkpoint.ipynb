{
 "cells": [
  {
   "cell_type": "markdown",
   "metadata": {},
   "source": [
    "## Reminder For loop\n",
    "A for loop is used for iterating over a sequence (for example a list). With the for loop we can execute a set of statements, once for each item in a sequence.\n",
    "\n",
    "- For loops start with the keyword __for__. \n",
    "- Then an “iterator”, a variable whose value will change at each turn of the loop.\n",
    "- Then a sequence of element (list,string,....)\n",
    "\n",
    "We’ll use this within the loop as the current value for a given iteration of the loop."
   ]
  },
  {
   "cell_type": "code",
   "execution_count": null,
   "metadata": {},
   "outputs": [],
   "source": [
    "fruits = [\"apple\", \"banana\", \"cherry\"]\n",
    "for x in fruits:\n",
    "  print(x)"
   ]
  },
  {
   "cell_type": "markdown",
   "metadata": {},
   "source": [
    "### Exercice\n",
    "[3, 47, 99, -80, 22, 97, 54, -23, 5, 7]<br>\n",
    "\n",
    "By using the loop:<br>\n",
    "- Calculate the average of the list\n",
    "- Find the lowest number\n",
    "- Find the highest number\n",
    "- Display the average the lowest and the highest value into the console"
   ]
  },
  {
   "cell_type": "markdown",
   "metadata": {},
   "source": [
    "## Reminder Range\n",
    "Range() function returns a sequence of numbers and can have 3 parameters: __range(start,end,step)__<br>\n",
    "- start => beginning of the range (optional if not specified then 0)\n",
    "- end => end of the range\n",
    "- step => step of range between numbers (optional if not specified then 1)\n",
    "\n",
    "range(6)=>range(0,6,1)<br>\n",
    "range(1,5)=>range(1,5,1)"
   ]
  },
  {
   "cell_type": "markdown",
   "metadata": {},
   "source": [
    "## Module random\n",
    "On the next exercices we will use the module random.\n",
    "\n",
    "Consider a module to be the same as a code library containing a set of functions. Random module contains a fonction to generate a random number.\n",
    "\n",
    "- To import a module use the following statement __import module_name__\n",
    "- To use a fonction from the module use the following statement __module_name.function()__\n",
    "\n",
    "\n",
    "```python\n",
    "import random\n",
    "# function random generate a number between 0 and 50\n",
    "x = random.random(0,50)\n",
    "print(x) \n",
    "```"
   ]
  },
  {
   "cell_type": "markdown",
   "metadata": {},
   "source": [
    "## Exercise\n",
    "Take two lists, say for example these two:\n",
    "\n",
    "  a = [1, 1, 2, 3, 5, 8, 13, 21, 34, 55, 89]<br>\n",
    "  b = [1, 2, 3, 4, 5, 6, 7, 8, 9, 10, 11, 12, 13]<br>\n",
    "  \n",
    "and write a program that returns a list that contains only the elements that are common between the lists (without duplicates). Make sure your program works on two lists of different sizes.\n",
    "\n",
    "__Extras:__\n",
    "Randomly generate two lists to test this\n",
    "\n"
   ]
  },
  {
   "cell_type": "markdown",
   "metadata": {},
   "source": [
    "### Break statement\n",
    "\n",
    "With the break statement we can stop the loop before it has looped through all the items:"
   ]
  },
  {
   "cell_type": "code",
   "execution_count": null,
   "metadata": {},
   "outputs": [],
   "source": [
    "\n",
    "fruits = [\"apple\", \"banana\", \"cherry\",\"watermelon\"]\n",
    "for x in fruits:\n",
    "  if x == \"cherry\":\n",
    "    break\n",
    "  print(x)"
   ]
  },
  {
   "cell_type": "markdown",
   "metadata": {},
   "source": [
    "## Exercise\n",
    "  a = [1, 11, 2, 13, 5, 8, 13, 21, 34, 55, 89]<br>\n",
    "\n",
    "  \n",
    "1- Ask a number from the user<br>\n",
    "2- Return the index of the first occurrence for this number<br>\n",
    "3- Print the message \"Not found\" if number does not exist in the list<br>\n",
    "\n",
    "__Example__<br>\n",
    "Input:13<br>\n",
    "Result:3<br>\n"
   ]
  },
  {
   "cell_type": "markdown",
   "metadata": {},
   "source": [
    "### Continue statement\n",
    "With the continue statement we can stop the current iteration of the loop, and continue with the next:"
   ]
  },
  {
   "cell_type": "code",
   "execution_count": null,
   "metadata": {},
   "outputs": [],
   "source": [
    "fruits = [\"apple\", \"banana\", \"cherry\"]\n",
    "for x in fruits:\n",
    "  if x == \"banana\":\n",
    "    continue\n",
    "  print(x)"
   ]
  },
  {
   "cell_type": "markdown",
   "metadata": {},
   "source": [
    "### Exercise\n",
    "Write a Python program to find 5 numbers which are divisible by 7 and multiple of 5, between 1500 and 2700.\n",
    "\n",
    "Use the statement __continue__ and __break__\n"
   ]
  },
  {
   "cell_type": "markdown",
   "metadata": {},
   "source": [
    "## While loop\n",
    "With the while loop we can execute a set of statements as long as a condition is true."
   ]
  },
  {
   "cell_type": "code",
   "execution_count": null,
   "metadata": {},
   "outputs": [],
   "source": [
    "i = 1\n",
    "while i < 6:\n",
    "  print(i)\n",
    "  i =i+1"
   ]
  },
  {
   "cell_type": "code",
   "execution_count": null,
   "metadata": {},
   "outputs": [],
   "source": [
    "#infinite loop\n",
    "while True:\n",
    "    print(\"I loop forever\")\n"
   ]
  },
  {
   "cell_type": "markdown",
   "metadata": {},
   "source": [
    "### Exercice\n",
    "Generate a random number between 1 and 9 (including 1 and 9). Ask the user to guess the number, then tell them whether they guessed too low, too high, or exactly right. (Hint: remember to use the user input lessons from the very first exercise)\n"
   ]
  },
  {
   "cell_type": "markdown",
   "metadata": {},
   "source": [
    "## Dictionary\n",
    "A dictionary is a collection of key/value which is \n",
    "- unordered \n",
    "- changeable \n",
    "- indexed (with the key)\n",
    "\n",
    "In Python dictionaries are written with curly brackets, and they have keys and values.\n",
    "\n",
    "```python\n",
    "thisdict =\t{\n",
    "  \"brand\": \"Ford\",\n",
    "  \"model\": \"Mustang\",\n",
    "  \"year\": 1964\n",
    "}\n",
    "print(thisdict)\n",
    "```\n",
    "\n",
    "### Accessing Items\n",
    "You can access the items of a dictionary by referring to its key name, inside square brackets:\n",
    "\n",
    "__Example__\n",
    "Get the value of the \"model\" key:\n",
    "```python\n",
    "x = thisdict[\"model\"]\n",
    "```\n",
    "\n",
    "### Change Values\n",
    "You can change the value of a specific item by referring to its key name:\n",
    "\n",
    "__Example__\n",
    "Change the \"year\" to 2018:\n",
    "\n",
    "```python\n",
    "thisdict[\"year\"] = 2018\n",
    "```\n",
    "### Loop\n",
    "You can loop through a dictionary by using a for loop:\n"
   ]
  },
  {
   "cell_type": "code",
   "execution_count": null,
   "metadata": {},
   "outputs": [],
   "source": [
    "thisdict ={\n",
    "  \"brand\": \"Ford\",\n",
    "  \"model\": \"Mustang\",\n",
    "  \"year\": 1964\n",
    "}\n",
    "\n",
    "#Loop on keys\n",
    "print(\"==========\\nLoop on keys\")\n",
    "for x in thisdict:\n",
    "  print(x)\n",
    "\n",
    "#Loop on values\n",
    "print(\"==========\\nLoop on values\")\n",
    "for x in thisdict.values():\n",
    "  print(x)\n",
    "\n",
    "#Loop on key/values\n",
    "print(\"==========\\nLoop on keys/values\")\n",
    "for x, y in thisdict.items():\n",
    "  print(x, y)"
   ]
  },
  {
   "cell_type": "markdown",
   "metadata": {},
   "source": [
    "### Adding Items\n",
    "Adding an item to the dictionary is done by using a new index key and assigning a value to it:"
   ]
  },
  {
   "cell_type": "code",
   "execution_count": null,
   "metadata": {},
   "outputs": [],
   "source": [
    "thisdict =    {\n",
    "  \"brand\": \"Ford\",\n",
    "  \"model\": \"Mustang\",\n",
    "  \"year\": 1964\n",
    "}\n",
    "thisdict[\"color\"] = \"red\"\n",
    "print(thisdict)"
   ]
  },
  {
   "cell_type": "markdown",
   "metadata": {},
   "source": [
    "### Removing Items\n",
    "The pop() method removes the item with the specified key name:\n",
    "\n"
   ]
  },
  {
   "cell_type": "code",
   "execution_count": null,
   "metadata": {},
   "outputs": [],
   "source": [
    "thisdict ={\n",
    "  \"brand\": \"Ford\",\n",
    "  \"model\": \"Mustang\",\n",
    "  \"year\": 1964\n",
    "}\n",
    "thisdict.pop(\"model\")\n",
    "print(thisdict)"
   ]
  },
  {
   "cell_type": "markdown",
   "metadata": {},
   "source": [
    "### Exercice - Birthday dictionnary\n",
    "\n",
    "we will keep track of when our friend’s birthdays are, and be able to find that information based on their name.<br>\n",
    "\n",
    "Create a dictionary of names and birthdays. \n",
    "\n",
    "When you run your program it should ask the user to enter a name, and return the birthday of that person back to them. The interaction should look something like this:\n",
    "\n",
    "__Welcome to the birthday dictionary.<br> We know the birthdays of:__<br>\n",
    "__Albert Einstein__<br>\n",
    "__Benjamin Franklin__<br>\n",
    "__Ada Lovelace__<br><br>\n",
    "\n",
    "__Who's birthday do you want to look up?__<br>\n",
    "Benjamin Franklin<br>\n",
    "__Benjamin Franklin's birthday is 01/17/1706.__<br>\n",
    "        \n"
   ]
  },
  {
   "cell_type": "markdown",
   "metadata": {},
   "source": [
    "## Exercice - Birthday part 2\n",
    "Extend your birthday program by allowing to add a new birthday date.<br>\n",
    "To do that you should display first a simple menu:<br>\n",
    "\n",
    "```python\n",
    "Welcome to the birthday dictionary\n",
    "==================================\n",
    "1 - Get a birthday date\n",
    "2 - Add a birthday date\n",
    "3 - Exit birthday dictionnary\n",
    "```\n"
   ]
  },
  {
   "cell_type": "code",
   "execution_count": null,
   "metadata": {},
   "outputs": [],
   "source": []
  }
 ],
 "metadata": {
  "kernelspec": {
   "display_name": "Python 3",
   "language": "python",
   "name": "python3"
  },
  "language_info": {
   "codemirror_mode": {
    "name": "ipython",
    "version": 3
   },
   "file_extension": ".py",
   "mimetype": "text/x-python",
   "name": "python",
   "nbconvert_exporter": "python",
   "pygments_lexer": "ipython3",
   "version": "3.7.3"
  }
 },
 "nbformat": 4,
 "nbformat_minor": 2
}
