{
 "cells": [
  {
   "cell_type": "markdown",
   "metadata": {},
   "source": [
    "## Reminder For loop\n",
    "A for loop is used for iterating over a sequence (for example a list). With the for loop we can execute a set of statements, once for each item in a sequence.\n",
    "\n",
    "- For loops start with the keyword __for__. \n",
    "- Then an “iterator”, a variable whose value will change at each turn of the loop.\n",
    "- Then a sequence of element (list,string,....)\n",
    "\n",
    "We’ll use this within the loop as the current value for a given iteration of the loop."
   ]
  },
  {
   "cell_type": "code",
   "execution_count": 1,
   "metadata": {},
   "outputs": [
    {
     "name": "stdout",
     "output_type": "stream",
     "text": [
      "1x9=9\n",
      "2x9=18\n",
      "3x9=27\n",
      "4x9=36\n",
      "5x9=45\n",
      "6x9=54\n",
      "7x9=63\n",
      "8x9=72\n",
      "9x9=81\n",
      "10x9=90\n",
      "the process done\n"
     ]
    }
   ],
   "source": [
    "li=[1,2,3,4,5,6,7,8,9,10]\n",
    "for n in li:\n",
    "    total=9*n\n",
    "    print(\"{}x{}={}\".format(n,9,total))\n",
    "\n",
    "print(\"the process done\")\n",
    "\n",
    "\n",
    "\n",
    "\n"
   ]
  },
  {
   "cell_type": "code",
   "execution_count": 2,
   "metadata": {},
   "outputs": [
    {
     "name": "stdout",
     "output_type": "stream",
     "text": [
      " apple banana cherry\n"
     ]
    }
   ],
   "source": [
    "allfruits=\"\"\n",
    "fruits = [\"apple\", \"banana\", \"cherry\"]\n",
    "for x in fruits:\n",
    "  allfruits=allfruits+' '+x\n",
    "print(allfruits)"
   ]
  },
  {
   "cell_type": "markdown",
   "metadata": {},
   "source": [
    "### Exercice\n",
    "[3, 47, 99, -80, 22, 97, 54, -23, 5, 7]<br>\n",
    "\n",
    "By using the loop:<br>\n",
    "- Calculate the average of the list\n",
    "- Find the lowest number\n",
    "- Find the highest number\n",
    "- Display the average the lowest and the highest value into the console"
   ]
  },
  {
   "cell_type": "code",
   "execution_count": 9,
   "metadata": {},
   "outputs": [
    {
     "name": "stdout",
     "output_type": "stream",
     "text": [
      "The average is 25.8 and the lowest is -80 \n",
      "and the highest is 99\n"
     ]
    }
   ],
   "source": [
    "list_number=[30, 47, 99, -80, 22, 97, 54, -23, 5, 7]\n",
    "counter=0\n",
    "summ=0\n",
    "lowest_number=list_number[0]\n",
    "highest_number=list_number[0]\n",
    "\n",
    "for n in list_number:\n",
    "    counter+=1\n",
    "    summ+=n\n",
    "    \n",
    "    if lowest_number>n:\n",
    "        lowest_number=n\n",
    "    \n",
    "    if highest_number<n:\n",
    "        highest_number=n\n",
    "    \n",
    "print(\"\"\"The average is {} and the lowest is {} \n",
    "and the highest is {}\"\"\".format(summ/counter,lowest_number,highest_number))    \n",
    "    \n",
    "    "
   ]
  },
  {
   "cell_type": "markdown",
   "metadata": {},
   "source": [
    "## Reminder Range\n",
    "Range() function returns a sequence of numbers and can have 3 parameters: __range(start,end,step)__<br>\n",
    "- start => beginning of the range (optional if not specified then 0)\n",
    "- end => end of the range\n",
    "- step => step of range between numbers (optional if not specified then 1)\n",
    "\n",
    "range(6)=>range(0,6,1)<br>\n",
    "range(1,5)=>range(1,5,1)"
   ]
  },
  {
   "cell_type": "markdown",
   "metadata": {},
   "source": [
    "## Module random\n",
    "On the next exercices we will use the module random.\n",
    "\n",
    "Consider a module to be the same as a code library containing a set of functions. Random module contains a fonction to generate a random number.\n",
    "\n",
    "- To import a module use the following statement __import module_name__\n",
    "- To use a fonction from the module use the following statement __module_name.function()__\n",
    "\n",
    "\n",
    "```python\n",
    "import random\n",
    "# function random generate a number between 0 and 50\n",
    "x = random.randrange(0,50)\n",
    "print(x) \n",
    "```"
   ]
  },
  {
   "cell_type": "code",
   "execution_count": 8,
   "metadata": {},
   "outputs": [
    {
     "name": "stdout",
     "output_type": "stream",
     "text": [
      "45\n",
      "18\n",
      "43\n"
     ]
    }
   ],
   "source": [
    "import random\n",
    "# function random generate a number between 0 and 50\n",
    "x = random.randrange(0,50)\n",
    "print(x) \n",
    "x = random.randrange(0,50)\n",
    "print(x) \n",
    "x = random.randrange(0,50)\n",
    "print(x) "
   ]
  },
  {
   "cell_type": "markdown",
   "metadata": {},
   "source": [
    "## Exercise\n",
    "Take two lists, say for example these two:\n",
    "\n",
    "  a = [1, 1, 2, 3, 5, 8, 13, 21, 34, 55, 89]<br>\n",
    "  b = [1, 2, 3, 4, 5, 6, 7, 8, 9, 10, 11, 12, 13]<br>\n",
    "  \n",
    "and write a program that returns a list that contains only the elements that are common between the lists (without duplicates). Make sure your program works on two lists of different sizes.\n",
    "\n",
    "__Extras:__\n",
    "Randomly generate two lists to test this\n",
    "\n"
   ]
  },
  {
   "cell_type": "code",
   "execution_count": 12,
   "metadata": {},
   "outputs": [
    {
     "name": "stdout",
     "output_type": "stream",
     "text": [
      "[46, 0, 40, 22, 28, 43, 39, 48, 22, 28]\n"
     ]
    }
   ],
   "source": [
    "import random\n",
    "l=[]\n",
    "for x in range(0,10):\n",
    "    rand_number=random.randrange(0,50)\n",
    "    l.append(rand_number)\n",
    "print(l)\n",
    "    "
   ]
  },
  {
   "cell_type": "markdown",
   "metadata": {},
   "source": [
    "### Break statement\n",
    "\n",
    "With the break statement we can stop the loop before it has looped through all the items:"
   ]
  },
  {
   "cell_type": "code",
   "execution_count": null,
   "metadata": {},
   "outputs": [],
   "source": [
    "\n",
    "fruits = [\"apple\", \"banana\", \"cherry\",\"watermelon\"]\n",
    "for x in fruits:\n",
    "  if x == \"cherry\":\n",
    "    break\n",
    "  print(x)"
   ]
  },
  {
   "cell_type": "markdown",
   "metadata": {},
   "source": [
    "## Exercise\n",
    "  a = [1, 11, 2, 13, 5, 8, 13, 21, 34, 55, 89]<br>\n",
    "\n",
    "  \n",
    "1- Ask a number from the user<br>\n",
    "2- Return the index of the first occurrence for this number<br>\n",
    "3- Print the message \"Not found\" if number does not exist in the list<br>\n",
    "\n",
    "__Example__<br>\n",
    "Input:13<br>\n",
    "Result:3<br>\n"
   ]
  },
  {
   "cell_type": "markdown",
   "metadata": {},
   "source": [
    "### Continue statement\n",
    "With the continue statement we can stop the current iteration of the loop, and continue with the next:"
   ]
  },
  {
   "cell_type": "code",
   "execution_count": null,
   "metadata": {},
   "outputs": [],
   "source": [
    "fruits = [\"apple\", \"banana\", \"cherry\"]\n",
    "for x in fruits:\n",
    "  if x == \"banana\":\n",
    "    continue\n",
    "  print(x)"
   ]
  },
  {
   "cell_type": "markdown",
   "metadata": {},
   "source": [
    "### Exercise\n",
    "Write a Python program to find 5 numbers which are divisible by 7 and multiple of 5, between 1500 and 2700.\n",
    "\n",
    "Use the statement __continue__ and __break__\n"
   ]
  },
  {
   "cell_type": "markdown",
   "metadata": {},
   "source": [
    "## While loop\n",
    "With the while loop we can execute a set of statements as long as a condition is true."
   ]
  },
  {
   "cell_type": "code",
   "execution_count": null,
   "metadata": {},
   "outputs": [],
   "source": [
    "i = 1\n",
    "while i < 6:\n",
    "  print(i)\n",
    "  i =i+1"
   ]
  },
  {
   "cell_type": "code",
   "execution_count": null,
   "metadata": {},
   "outputs": [],
   "source": [
    "#infinite loop\n",
    "while True:\n",
    "    print(\"I loop forever\")\n"
   ]
  },
  {
   "cell_type": "markdown",
   "metadata": {},
   "source": [
    "### Exercice\n",
    "Generate a random number between 1 and 9 (including 1 and 9). Ask the user to guess the number, then tell them whether they guessed too low, too high, or exactly right. (Hint: remember to use the user input lessons from the very first exercise)\n"
   ]
  }
 ],
 "metadata": {
  "kernelspec": {
   "display_name": "Python 3",
   "language": "python",
   "name": "python3"
  },
  "language_info": {
   "codemirror_mode": {
    "name": "ipython",
    "version": 3
   },
   "file_extension": ".py",
   "mimetype": "text/x-python",
   "name": "python",
   "nbconvert_exporter": "python",
   "pygments_lexer": "ipython3",
   "version": "3.7.3"
  }
 },
 "nbformat": 4,
 "nbformat_minor": 2
}
