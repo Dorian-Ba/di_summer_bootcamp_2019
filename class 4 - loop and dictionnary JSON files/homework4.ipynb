{
 "cells": [
  {
   "cell_type": "markdown",
   "metadata": {},
   "source": [
    "## Exercise 1 - Fibonnaci\n",
    "Write a program that asks the user how many Fibonnaci numbers to generate and then generates them. <br>\n",
    "\n",
    "Make sure to ask the user to enter the number of numbers in the sequence to generate.<br>\n",
    "\n",
    "The Fibonnaci seqence is a sequence of numbers where the next number in the sequence is the sum of the previous two numbers in the sequence. The sequence looks like this: 1, 1, 2, 3, 5, 8,...\n",
    "\n",
    "__Example__<br>\n",
    "Input:5<br>\n",
    "Ouput: 1, 1, 2, 3, 5"
   ]
  },
  {
   "cell_type": "markdown",
   "metadata": {},
   "source": [
    "## Exercise 2 - Word Frequencies\n",
    "Ask to the user to type a sentence.Count each the number of occurance for each word in a text.<br> \n",
    "Use a dictionnary to do that. The dict key is the word and the dict value is the count of the number of occurances. <br>\n",
    "\n",
    "\n",
    "<br>\n",
    "if my text is \"Hello hello who is it ? Is it you ?\"\n",
    "then my program should generate the following dictionnary:\n",
    "{\"hello\":2, \"who\":1, \"is\":2, \"it\":2 \"you\":1}<br>\n",
    "\n",
    "\n",
    "After dictionnary is built display the dictionnary and the word with the highest frequency<br><br>\n",
    "\n",
    "__Input__<br>\n",
    "    \"Hello hello who is it ? Is it you ?\"<br><br>\n",
    "__Output__<br>\n",
    "    Frequencies report<br>\n",
    "    =======================<br>\n",
    "    hello:2<br>\n",
    "    who:1<br>\n",
    "    is:2<br>\n",
    "    it:2<br>\n",
    "    you:1<br>\n",
    "The word with the highest frequency: hello,is,it<br>\n",
    "\n",
    "\n",
    "__Note:__ To do this exercice you should use the following function:<br>\n",
    "\n"
   ]
  },
  {
   "cell_type": "markdown",
   "metadata": {},
   "source": [
    "Split() returns a list of all the words in the string, using str as the separator (splits on all whitespace if left unspecified)"
   ]
  },
  {
   "cell_type": "code",
   "execution_count": 7,
   "metadata": {},
   "outputs": [
    {
     "data": {
      "text/plain": [
       "['sad', 'asdsasda', 'asdassad', 'asdsds']"
      ]
     },
     "execution_count": 7,
     "metadata": {},
     "output_type": "execute_result"
    }
   ],
   "source": [
    "\"sad asdsasda asdassad asdsds\".split()"
   ]
  },
  {
   "cell_type": "markdown",
   "metadata": {},
   "source": [
    "Count() returns the number of occurrences of substring sub in the range [start, end]. Optional arguments start and end are interpreted as in slice notation."
   ]
  },
  {
   "cell_type": "code",
   "execution_count": 6,
   "metadata": {},
   "outputs": [
    {
     "data": {
      "text/plain": [
       "3"
      ]
     },
     "execution_count": 6,
     "metadata": {},
     "output_type": "execute_result"
    }
   ],
   "source": [
    "\"sad asdsasda asdassad asdsds\".count(\"sa\")"
   ]
  },
  {
   "cell_type": "markdown",
   "metadata": {},
   "source": [
    "__Exercise 3.__ Write a python program to find the longest words. Go to the editor\n",
    "Click me to see the sample solution\n",
    "\n",
    "__Exercise 4.__ Write a Python program to count the number of lines in a text file. Go to the editor\n",
    "Click me to see the sample solution\n",
    "\n",
    "__Exercise 5.__ Write a Python program to count the frequency of words in a file. Go to the editor\n",
    "Click me to see the sample solution"
   ]
  },
  {
   "cell_type": "markdown",
   "metadata": {},
   "source": [
    "__Exercice 6.__ Generate a quiz math JSON file randomly with the folloging JSON structure.\n",
    "- I should have 10 levels\n",
    "- On each level I have 10 questions\n",
    "- On each question I have 4 answer with one correct answer\n",
    "- To generate random number you should use the function randrange from module random\n"
   ]
  },
  {
   "cell_type": "code",
   "execution_count": null,
   "metadata": {},
   "outputs": [],
   "source": [
    "## Exercice 6. Generate a Math Quiz\n",
    "\n",
    "{\n",
    "    \"quiz maths level 1\": {\n",
    "        \"q1\": {\n",
    "            \"question\": \"5 + 7 = ?\",\n",
    "            \"options\": [\n",
    "                \"10\",\n",
    "                \"11\",\n",
    "                \"12\",\n",
    "                \"13\"\n",
    "            ],\n",
    "            \"answer\": \"12\"\n",
    "        },\n",
    "        \"q2\": {\n",
    "            \"question\": \"12 - 8 = ?\",\n",
    "            \"options\": [\n",
    "                \"1\",\n",
    "                \"2\",\n",
    "                \"3\",\n",
    "                \"4\"\n",
    "            ],\n",
    "            \"answer\": \"4\"\n",
    "        } \n",
    "    \"quiz maths level 2\": {\n",
    "        \"q1\": {\n",
    "            \"question\": \"500 + 600 = ?\",\n",
    "            \"options\": [\n",
    "                \"10\",\n",
    "                \"1100\",\n",
    "                \"12\",\n",
    "                \"13\"\n",
    "            ],\n",
    "            \"answer\": \"1100\"\n",
    "        }     \n",
    "}"
   ]
  },
  {
   "cell_type": "markdown",
   "metadata": {},
   "source": [
    "## Reminder Module random\n",
    "On the next exercices we will use the module random.\n",
    "\n",
    "Consider a module to be the same as a code library containing a set of functions. Random module contains a fonction to generate a random number.\n",
    "\n",
    "- To import a module use the following statement __import module_name__\n",
    "- To use a fonction from the module use the following statement __module_name.function()__\n",
    "\n",
    "\n",
    "```python\n",
    "import random\n",
    "# function random generate a number between 0 and 50\n",
    "x = random.randrange(0,50)\n",
    "print(x) \n",
    "```"
   ]
  },
  {
   "cell_type": "code",
   "execution_count": null,
   "metadata": {},
   "outputs": [],
   "source": []
  },
  {
   "cell_type": "code",
   "execution_count": null,
   "metadata": {},
   "outputs": [],
   "source": []
  }
 ],
 "metadata": {
  "kernelspec": {
   "display_name": "Python 3",
   "language": "python",
   "name": "python3"
  },
  "language_info": {
   "codemirror_mode": {
    "name": "ipython",
    "version": 3
   },
   "file_extension": ".py",
   "mimetype": "text/x-python",
   "name": "python",
   "nbconvert_exporter": "python",
   "pygments_lexer": "ipython3",
   "version": "3.7.3"
  }
 },
 "nbformat": 4,
 "nbformat_minor": 2
}
