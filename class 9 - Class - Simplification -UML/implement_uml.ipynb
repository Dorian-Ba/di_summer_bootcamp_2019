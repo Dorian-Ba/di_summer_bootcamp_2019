{
 "cells": [
  {
   "cell_type": "code",
   "execution_count": 2,
   "metadata": {},
   "outputs": [
    {
     "name": "stdout",
     "output_type": "stream",
     "text": [
      "Dingo\n",
      "Pluto\n",
      "The owner of Dingo is Maxime\n"
     ]
    }
   ],
   "source": [
    "class Pet():\n",
    "    def __init__(self,name,owner):\n",
    "        self.name=name\n",
    "        self.owner=owner\n",
    "        owner.add_new_pet(self)\n",
    "        \n",
    "    \n",
    "class PetOwner():\n",
    "    def __init__(self,name):\n",
    "        self.name=name\n",
    "        self.pets=[]\n",
    "        \n",
    "    def add_new_pet(self,pet):\n",
    "        self.pets.append(pet)\n",
    "        \n",
    "######MAIN\n",
    "maxime=PetOwner(\"Maxime\")\n",
    "dingo=Pet(\"Dingo\",maxime)\n",
    "pluto=Pet(\"Pluto\",maxime)\n",
    "\n",
    "#who are the pets of Maxime\n",
    "for pet in maxime.pets:\n",
    "    print(pet.name)\n",
    "    \n",
    "    \n",
    "#who is the owner of Dingo\n",
    "print(\"The owner of Dingo is {}\".format(dingo.owner.name))\n",
    "    \n",
    "\n",
    "\n",
    "\n",
    "        \n",
    "    "
   ]
  },
  {
   "cell_type": "code",
   "execution_count": null,
   "metadata": {},
   "outputs": [],
   "source": [
    "class Pet():\n",
    "    def __init__(self,name,owner):\n",
    "        self.name=name\n",
    "        self.owner=owner\n",
    "        owner.add_new_pet(self)\n",
    "        \n",
    "    \n",
    "class PetOwner():\n",
    "    def __init__(self,name):\n",
    "        self.name=name\n",
    "        self.pets=[]\n",
    "        \n",
    "    def add_new_pet(self,pet):\n",
    "        self.pets.append(pet)\n",
    "        \n",
    "######MAIN\n",
    "maxime=PetOwner(\"Maxime\")\n",
    "dingo=Pet(\"Dingo\",maxime)\n",
    "pluto=Pet(\"Pluto\",maxime)\n",
    "\n",
    "#who are the pets of Maxime\n",
    "for pet in maxime.pets:\n",
    "    print(pet.name)\n",
    "    \n",
    "    \n",
    "#who is the owner of Dingo\n",
    "print(\"The owner of Dingo is {}\".format(dingo.owner.name))\n",
    "    \n"
   ]
  },
  {
   "cell_type": "code",
   "execution_count": 7,
   "metadata": {},
   "outputs": [
    {
     "name": "stdout",
     "output_type": "stream",
     "text": [
      "123131231\n",
      "DorianBank's\n",
      "32423423\n",
      "DorianBank's\n"
     ]
    }
   ],
   "source": [
    "class Bank:\n",
    "    def __init__(self,name):\n",
    "        self.name=name\n",
    "        self.accounts=[]\n",
    "\n",
    "    def add_account(self,account):\n",
    "        self.accounts.append(account)\n",
    "    \n",
    "class Account:\n",
    "    def __init__(self,account_number,bank):\n",
    "        self.account_number=account_number\n",
    "        self.bank=bank\n",
    "        bank.add_account(self)\n",
    "        \n",
    "    \n",
    "class Checking(Account):\n",
    "    def __init__(self,account_number,bank,credit_limit):\n",
    "        super().__init__(account_number,bank)\n",
    "        self.credit_limit=credit_limit\n",
    "        \n",
    "class Saving(Account):\n",
    "    def __init__(self,account_number,bank,interest_rate):\n",
    "        super().__init__(account_number,bank)\n",
    "        self.interest_rate=interest_rate\n",
    "        \n",
    "    \n",
    "\n",
    "myBank=Bank(\"DorianBank's\")\n",
    "davidChecking=Checking(123131231,myBank,5000)\n",
    "davidSavingAccount=Saving(32423423,myBank,2)\n",
    "\n",
    "for account in myBank.accounts:\n",
    "    print(account.account_number)\n",
    "    print(account.bank.name)\n",
    "\n",
    "\n"
   ]
  },
  {
   "cell_type": "code",
   "execution_count": null,
   "metadata": {},
   "outputs": [],
   "source": []
  }
 ],
 "metadata": {
  "kernelspec": {
   "display_name": "Python 3",
   "language": "python",
   "name": "python3"
  },
  "language_info": {
   "codemirror_mode": {
    "name": "ipython",
    "version": 3
   },
   "file_extension": ".py",
   "mimetype": "text/x-python",
   "name": "python",
   "nbconvert_exporter": "python",
   "pygments_lexer": "ipython3",
   "version": "3.7.3"
  }
 },
 "nbformat": 4,
 "nbformat_minor": 2
}
