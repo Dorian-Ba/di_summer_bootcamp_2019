{
 "cells": [
  {
   "cell_type": "markdown",
   "metadata": {},
   "source": [
    "## Instance, Class, and Static Methods — An Overview\n",
    "\n"
   ]
  },
  {
   "cell_type": "code",
   "execution_count": 22,
   "metadata": {},
   "outputs": [
    {
     "data": {
      "text/plain": [
       "('class method called', __main__.MyClass)"
      ]
     },
     "execution_count": 22,
     "metadata": {},
     "output_type": "execute_result"
    }
   ],
   "source": [
    "class MyClass:\n",
    "    def method(self):\n",
    "        return 'instance method called', self\n",
    "\n",
    "    @classmethod\n",
    "    def classmethod(cls):\n",
    "        return 'class method called', cls\n",
    "\n",
    "    @staticmethod\n",
    "    def staticmethod():\n",
    "        return 'static method called'\n",
    "    \n",
    "#call instance method\n",
    "obj=MyClass()\n",
    "obj.method()\n",
    "\n",
    "#call class method\n",
    "MyClass.classmethod()\n",
    "\n",
    "\n",
    "#call static method()\n",
    "MyClass.staticmethod()\n",
    "\n"
   ]
  },
  {
   "cell_type": "markdown",
   "metadata": {},
   "source": [
    "<h3 id=\"instance-methods\">Instance Methods</h3>\n",
    "<p>You can see the method takes one parameter, <code>self</code>, which points to an instance of <code>MyClass</code> when the method is called.</p>\n",
    "<p>Through the <code>self</code> parameter, instance methods can  access attributes and  methods on the same object. This allow to modify an object&rsquo;s state.</p>\n",
    "<p>Not only can they modify object state, instance methods can also access the class itself through the <code>self.__class__</code> attribute. This means instance methods can also modify class state.</p>\n",
    "<h3 id=\"class-methods\">Class Methods</h3>\n",
    "<p>A class method is marked with a method with a decorator <code>@classmethod</code>  to flag it as a <em>class method</em>.</p>\n",
    "<p>Instead of accepting a <code>self</code> parameter, class methods take a <code>cls</code> parameter that points to the class—and not the object instance—when the method is called.</p>\n",
    "<p>Because the class method only has access to this <code>cls</code> argument, it can&rsquo;t modify object instance state. That would require access to <code>self</code>. However, class methods can still modify class state that applies across all instances of the class.</p>\n",
    "<h3 id=\"static-methods\">Static Methods</h3>\n",
    "<p>The third method, <code>MyClass.staticmethod</code> was marked with a <a href=\"https://docs.python.org/3/library/functions.html#staticmethod\"><code>@staticmethod</code></a> decorator to flag it as a <em>static method</em>.</p>\n",
    "<p>This type of method takes neither a <code>self</code> nor a <code>cls</code> parameter.</p>\n",
    "<p>Therefore a static method can neither modify object state nor class state. Static methods are restricted in what data they can access - and they&rsquo;re primarily a way to namespace your methods.</p>"
   ]
  },
  {
   "cell_type": "markdown",
   "metadata": {},
   "source": [
    "## Case:"
   ]
  },
  {
   "cell_type": "code",
   "execution_count": 24,
   "metadata": {},
   "outputs": [],
   "source": [
    "class Pizza:\n",
    "    def __init__(self, ingredients):\n",
    "        self.ingredients = ingredients\n",
    "\n",
    "    def __repr__(self):\n",
    "        return f'Pizza({self.ingredients!r})'\n",
    "\n",
    "    @classmethod\n",
    "    def margherita(cls):\n",
    "        return cls(['mozzarella', 'tomatoes'])\n",
    "\n",
    "    @classmethod\n",
    "    def prosciutto(cls):\n",
    "        return cls(['mozzarella', 'tomatoes', 'ham'])\n",
    "    \n",
    "    \n",
    "    def area(self):\n",
    "        return self.circle_area(self.radius)\n",
    "\n",
    "    @staticmethod\n",
    "    def circle_area(r):\n",
    "        return r ** 2 * math.pi"
   ]
  },
  {
   "cell_type": "code",
   "execution_count": null,
   "metadata": {},
   "outputs": [],
   "source": []
  }
 ],
 "metadata": {
  "kernelspec": {
   "display_name": "Python 3",
   "language": "python",
   "name": "python3"
  },
  "language_info": {
   "codemirror_mode": {
    "name": "ipython",
    "version": 3
   },
   "file_extension": ".py",
   "mimetype": "text/x-python",
   "name": "python",
   "nbconvert_exporter": "python",
   "pygments_lexer": "ipython3",
   "version": "3.7.3"
  }
 },
 "nbformat": 4,
 "nbformat_minor": 2
}
