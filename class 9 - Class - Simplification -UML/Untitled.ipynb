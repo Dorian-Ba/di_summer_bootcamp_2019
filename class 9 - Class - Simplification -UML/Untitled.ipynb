{
 "cells": [
  {
   "cell_type": "code",
   "execution_count": 26,
   "metadata": {},
   "outputs": [
    {
     "name": "stdout",
     "output_type": "stream",
     "text": [
      "{'instance_attribute': 5}\n",
      "{'instance_attribute': 5}\n",
      "{'instance_attribute': 5}\n",
      "20\n",
      "20\n"
     ]
    }
   ],
   "source": [
    "class Test:\n",
    "    class_attribute=0\n",
    "    \n",
    "    def __init__(self,ins):\n",
    "        self.instance_attribute=ins\n",
    "        \n",
    "        \n",
    "o1=Test(5)\n",
    "\n",
    "print(o1.__dict__)\n",
    "#o1.class_attribute=10\n",
    "print(o1.__dict__)\n",
    "Test.class_attribute=20\n",
    "print(o1.__dict__)\n",
    "print(o1.class_attribute)\n",
    "print(Test.class_attribute)\n",
    "\n",
    "\n",
    "\n",
    "    "
   ]
  },
  {
   "cell_type": "code",
   "execution_count": 34,
   "metadata": {},
   "outputs": [
    {
     "name": "stdout",
     "output_type": "stream",
     "text": [
      "10\n",
      "999\n"
     ]
    }
   ],
   "source": [
    "class Example:\n",
    "    i3=1000\n",
    "    def __init__(self,a1,a2):\n",
    "        self.a1=a1\n",
    "        self.a2=a2\n",
    "        print(self.a1)\n",
    "        \n",
    "    def instance_method(self,v):\n",
    "        print(self.a1) #access to the state of the object\n",
    "        self.a2=v #change the state of the object\n",
    "        self.instance_method2() #I call other instance method\n",
    "        print(self.__class__.i3) #access to class attribute\n",
    "        \n",
    "        \n",
    "    def instance_method2(self):\n",
    "        print(\"hello\")\n",
    "        \n",
    "    \n",
    "    @classmethod\n",
    "    def class_method(cls):\n",
    "        cls.i3=999\n",
    "        \n",
    "        \n",
    "o1=Example(10,20)  \n",
    "Example.class_method()\n",
    "print(Example.i3)\n",
    "    \n",
    "        "
   ]
  },
  {
   "cell_type": "code",
   "execution_count": 35,
   "metadata": {},
   "outputs": [
    {
     "ename": "TypeError",
     "evalue": "can only concatenate list (not \"int\") to list",
     "output_type": "error",
     "traceback": [
      "\u001b[0;31m---------------------------------------------------------------------------\u001b[0m",
      "\u001b[0;31mTypeError\u001b[0m                                 Traceback (most recent call last)",
      "\u001b[0;32m<ipython-input-35-d7af09760aa8>\u001b[0m in \u001b[0;36m<module>\u001b[0;34m\u001b[0m\n\u001b[1;32m      1\u001b[0m \u001b[0ml\u001b[0m\u001b[0;34m=\u001b[0m\u001b[0;34m[\u001b[0m\u001b[0;34m]\u001b[0m\u001b[0;34m\u001b[0m\u001b[0;34m\u001b[0m\u001b[0m\n\u001b[0;32m----> 2\u001b[0;31m \u001b[0ml\u001b[0m\u001b[0;34m+\u001b[0m\u001b[0;36m1\u001b[0m\u001b[0;34m\u001b[0m\u001b[0;34m\u001b[0m\u001b[0m\n\u001b[0m",
      "\u001b[0;31mTypeError\u001b[0m: can only concatenate list (not \"int\") to list"
     ]
    }
   ],
   "source": [
    "l=[]\n",
    "l+1"
   ]
  },
  {
   "cell_type": "code",
   "execution_count": 36,
   "metadata": {},
   "outputs": [
    {
     "data": {
      "text/plain": [
       "4"
      ]
     },
     "execution_count": 36,
     "metadata": {},
     "output_type": "execute_result"
    }
   ],
   "source": [
    "int(4.5)"
   ]
  },
  {
   "cell_type": "code",
   "execution_count": null,
   "metadata": {},
   "outputs": [],
   "source": []
  }
 ],
 "metadata": {
  "kernelspec": {
   "display_name": "Python 3",
   "language": "python",
   "name": "python3"
  },
  "language_info": {
   "codemirror_mode": {
    "name": "ipython",
    "version": 3
   },
   "file_extension": ".py",
   "mimetype": "text/x-python",
   "name": "python",
   "nbconvert_exporter": "python",
   "pygments_lexer": "ipython3",
   "version": "3.7.3"
  }
 },
 "nbformat": 4,
 "nbformat_minor": 2
}
