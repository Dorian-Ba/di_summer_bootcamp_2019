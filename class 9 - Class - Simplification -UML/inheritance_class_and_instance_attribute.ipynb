{
 "cells": [
  {
   "cell_type": "markdown",
   "metadata": {},
   "source": [
    "## Python Inheritance\n",
    "\n",
    "Inheritance is a concept in object-oriented programming in which a class derives (or inherits) attributes and behaviors from another class without needing to implement them again.<br>\n",
    "\n",
    "In other words inheritance allows us to define a class that inherits all the methods and properties from another class.<br>\n",
    "\n",
    "__Parent__ class is the class being inherited from, also called base class.\n",
    "<br>\n",
    "__Child__ class is the class that inherits from another class, also called derived class."
   ]
  },
  {
   "cell_type": "markdown",
   "metadata": {},
   "source": [
    "Here, there are two similar classes: Rectangle and Square:"
   ]
  },
  {
   "cell_type": "code",
   "execution_count": 2,
   "metadata": {},
   "outputs": [
    {
     "name": "stdout",
     "output_type": "stream",
     "text": [
      "100\n",
      "200\n"
     ]
    }
   ],
   "source": [
    "class Square():\n",
    "    def __init__(self,width):\n",
    "        self.width=width\n",
    "        \n",
    "    def get_surface(self):\n",
    "        return self.width*self.width\n",
    "\n",
    "class Rectangle():\n",
    "    def __init__(self,width,length):\n",
    "        self.width=width\n",
    "        self.length=length\n",
    "    \n",
    "    def get_surface(self):\n",
    "        return self.width*self.length\n",
    "\n",
    "s=Square(10)\n",
    "print(s.get_surface())\n",
    "\n",
    "r=Rectangle(10,20)\n",
    "print(r.get_surface())\n",
    "\n"
   ]
  },
  {
   "cell_type": "markdown",
   "metadata": {},
   "source": [
    "In the example above, you have two shapes that are related to each other: a square is a special kind of rectangle. The code, however, doesn’t reflect that relationship and thus has code that is essentially repeated.\n",
    "<br><br>\n",
    "By using inheritance, you can reduce the amount of code you write while simultaneously reflecting the real-world relationship between rectangles and squares:"
   ]
  },
  {
   "cell_type": "code",
   "execution_count": 18,
   "metadata": {},
   "outputs": [
    {
     "name": "stdout",
     "output_type": "stream",
     "text": [
      "100\n"
     ]
    }
   ],
   "source": [
    "class Rectangle():\n",
    "    def __init__(self,width,length):\n",
    "        self.width=width\n",
    "        self.length=length\n",
    "    \n",
    "    def get_surface(self):\n",
    "        return self.width*self.length\n",
    "\n",
    "class Square(Rectangle):\n",
    "    def __init__(self,width):\n",
    "        super().__init__(width,width)\n",
    "    \n",
    "    \n",
    "s=Square(10)\n",
    "print(s.get_surface())"
   ]
  },
  {
   "cell_type": "markdown",
   "metadata": {},
   "source": [
    "super() alone returns a temporary object of the superclass that then allows you to call that superclass’s methods.<br><br>\n",
    "\n",
    "Here, you’ve used super() to call the __init__() of the Rectangle class, allowing you to use it in the Square class without repeating code. Below, the core functionality remains after making changes:"
   ]
  },
  {
   "cell_type": "code",
   "execution_count": 30,
   "metadata": {},
   "outputs": [
    {
     "name": "stdout",
     "output_type": "stream",
     "text": [
      "My name is Oren and I am 21 and I have a dregree Master from Columbia university\n",
      "I eat chocolate\n",
      "I study Python for 3 hours\n",
      "I eat Big Mac\n",
      "I sleep 8\n"
     ]
    },
    {
     "data": {
      "text/plain": [
       "'My name is Oren and I am 21 and I have a dregree Master from Columbia university'"
      ]
     },
     "execution_count": 30,
     "metadata": {},
     "output_type": "execute_result"
    }
   ],
   "source": [
    "class Person():\n",
    "    def __init__(self,name,age):\n",
    "        self.name=name\n",
    "        self.age=age\n",
    "        \n",
    "\n",
    "    def description(self):\n",
    "        return \"My name is {} and I am {}\".format(self.name,self.age)\n",
    "    \n",
    "    def sleep(self,hours):\n",
    "        print(\"I sleep {}\".format(hours))\n",
    "        \n",
    "    def eat(self,food):\n",
    "        print(\"I eat {}\".format(food))\n",
    "    \n",
    "    \n",
    "class Worker(Person):\n",
    "    def __init__(self,name,age,company_name,salary):\n",
    "        super().__init__(name,age)\n",
    "        self.company_name=company_name\n",
    "        self.salary=salary\n",
    " \n",
    "    def description(self):\n",
    "        description_person=super().description()\n",
    "        description_worker=description_person+\" and I work for {} and my salary is {}\".format(self.company_name,self.salary)\n",
    "        return description_worker\n",
    "\n",
    "    def work(self,hours):\n",
    "        print(\"I work {}\".format(hours))\n",
    "    \n",
    "class Student(Person):\n",
    "    def __init__(self,name,age,university_name,degree):\n",
    "        super().__init__(name,age)\n",
    "        self.university=university_name\n",
    "        self.degree=degree\n",
    "        \n",
    "    def description(self):\n",
    "        description_person=super().description()\n",
    "        description_worker=description_person+\" and I have a dregree {} from {} university\".format(self.degree,self.university)\n",
    "        return description_worker        \n",
    "\n",
    "    \n",
    "    def study(self,topic,hours):\n",
    "        print(\"I study {} for {} hours\".format(topic,hours))\n",
    "    \n",
    "    \n",
    "\n",
    "s=Student(\"Oren\",21,\"Columbia\",\"Master\")\n",
    "print(s.description())\n",
    "#morning time\n",
    "s.eat(\"chocolate\")\n",
    "#time to use brain\n",
    "s.study(\"Python\",3)\n",
    "#lunch break\n",
    "s.eat(\"Big Mac\")\n",
    "s.sleep(8)\n",
    "\n",
    "student2=s\n",
    "student2.description()\n"
   ]
  },
  {
   "cell_type": "markdown",
   "metadata": {},
   "source": [
    "__super()__ allows you to call methods of the superclass in your subclass. "
   ]
  },
  {
   "cell_type": "markdown",
   "metadata": {},
   "source": [
    "<h2 pid=\"14\">Class Attribute vs. Instance Attribute</h2> \n",
    "\n",
    "<ul> \n",
    " <li><p pid=\"8\">An instance attribute is a Python variable belonging to one, and only one, object. This variable is only accessible in the scope of this object and it is defined inside the constructor function,&nbsp;<code>__init__(self,..)</code><span id=\"_tmp_pre_1\">&nbsp;</span>of the class.</p></li> \n",
    " <li><p pid=\"8\">A class attribute is a Python variable that&nbsp;belongs to a class rather than a particular object. It is shared between all the objects of this class and it is defined outside the constructor function,&nbsp;<code>__init__(self,...)</code><span id=\"_tmp_pre_2\">,</span>&nbsp;of the class.</p></li> \n",
    "</ul> \n",
    "<p pid=\"8\">The below&nbsp;<code>ExampleClass</code><span id=\"_tmp_pre_1\">&nbsp;</span>is a basic Python class with two attributes:&nbsp;<code>class_attr</code><span id=\"_tmp_pre_2\">&nbsp;</span>and&nbsp;<code>instance_attr</code><span id=\"_tmp_pre_3\">.</span>&nbsp;</p> \n"
   ]
  },
  {
   "cell_type": "code",
   "execution_count": 10,
   "metadata": {},
   "outputs": [
    {
     "name": "stdout",
     "output_type": "stream",
     "text": [
      "1\n",
      "2\n",
      "0\n",
      "0\n",
      "0\n",
      "0\n",
      "10\n"
     ]
    },
    {
     "ename": "AttributeError",
     "evalue": "type object 'ExampleClass' has no attribute 'instance_attr'",
     "output_type": "error",
     "traceback": [
      "\u001b[0;31m---------------------------------------------------------------------------\u001b[0m",
      "\u001b[0;31mAttributeError\u001b[0m                            Traceback (most recent call last)",
      "\u001b[0;32m<ipython-input-10-41cf7527df06>\u001b[0m in \u001b[0;36m<module>\u001b[0;34m\u001b[0m\n\u001b[1;32m     22\u001b[0m \u001b[0mprint\u001b[0m \u001b[0;34m(\u001b[0m\u001b[0mfoo\u001b[0m\u001b[0;34m.\u001b[0m\u001b[0mclass_attr\u001b[0m\u001b[0;34m)\u001b[0m\u001b[0;34m\u001b[0m\u001b[0;34m\u001b[0m\u001b[0m\n\u001b[1;32m     23\u001b[0m \u001b[0;31m# try to print instance attribute as a class property\u001b[0m\u001b[0;34m\u001b[0m\u001b[0;34m\u001b[0m\u001b[0;34m\u001b[0m\u001b[0m\n\u001b[0;32m---> 24\u001b[0;31m \u001b[0mprint\u001b[0m \u001b[0;34m(\u001b[0m\u001b[0mExampleClass\u001b[0m\u001b[0;34m.\u001b[0m\u001b[0minstance_attr\u001b[0m\u001b[0;34m)\u001b[0m\u001b[0;34m\u001b[0m\u001b[0;34m\u001b[0m\u001b[0m\n\u001b[0m\u001b[1;32m     25\u001b[0m \u001b[0;31m#AttributeError: type object 'ExampleClass' has no attribute 'instance_attr'\u001b[0m\u001b[0;34m\u001b[0m\u001b[0;34m\u001b[0m\u001b[0;34m\u001b[0m\u001b[0m\n",
      "\u001b[0;31mAttributeError\u001b[0m: type object 'ExampleClass' has no attribute 'instance_attr'"
     ]
    }
   ],
   "source": [
    "class ExampleClass():\n",
    "    class_attr = 0\n",
    "\n",
    "    def __init__(self, instance_attr):\n",
    "        self.instance_attr = instance_attr   \n",
    "        \n",
    "foo = ExampleClass(1)\n",
    "bar = ExampleClass(2)\n",
    "\n",
    "# print the instance attribute of the object foo\n",
    "#print the instance attribute of the object var\n",
    "print (foo.instance_attr)\n",
    "print (bar.instance_attr)\n",
    "\n",
    "#print the class attribute of the class ExampleClass as a property of the class itself \n",
    "print (ExampleClass.class_attr)\n",
    "#print the classattribute  of the class as a proporty of the objects foo,bar\n",
    "print (bar.class_attr)\n",
    "print (foo.class_attr)\n",
    "foo.class_attr=10\n",
    "print (bar.class_attr)\n",
    "print (foo.class_attr)\n",
    "# try to print instance attribute as a class property\n",
    "print (ExampleClass.instance_attr)\n",
    "#AttributeError: type object 'ExampleClass' has no attribute 'instance_attr'"
   ]
  },
  {
   "cell_type": "markdown",
   "metadata": {},
   "source": [
    "<p pid=\"20\">Notice that the class attribute can be accessed as a class property and as an instance property, however, accessing an instance attribute as a class property raises an&nbsp;<code>AttributeError</code>.</p> \n",
    "\n",
    "\n",
    "<h2 pid=\"16\">Behind the Scenes</h2> \n",
    "<p pid=\"19\">In Python, a namespace is a mapping between objects and names. To keep it simple, let's say it is a Python dictionary that has as a key to the name of the object and its value as a value. Different namespaces can coexist with the property while the names within them are independent.</p> \n",
    "\n",
    "<p pid=\"19\">Python classes and objects have different namespaces,&nbsp; for our example, we have&nbsp;<code>ExampleClass.__dict__</code>&nbsp; as a namespace for our class and <code>foo.__dict__(bar.__dict__)</code>as a namespace for our object <code>foo(bar)</code>.</p> \n"
   ]
  },
  {
   "cell_type": "code",
   "execution_count": 14,
   "metadata": {},
   "outputs": [
    {
     "name": "stdout",
     "output_type": "stream",
     "text": [
      "{'__module__': '__main__', 'class_attr': 0, '__init__': <function ExampleClass.__init__ at 0x10663d9d8>, '__dict__': <attribute '__dict__' of 'ExampleClass' objects>, '__weakref__': <attribute '__weakref__' of 'ExampleClass' objects>, '__doc__': None}\n",
      "{'instance_attr': 1}\n",
      "{'instance_attr': 2}\n"
     ]
    }
   ],
   "source": [
    "class ExampleClass():\n",
    "    class_attr = 0\n",
    "\n",
    "    def __init__(self, instance_attr):\n",
    "        self.instance_attr = instance_attr  \n",
    "        \n",
    "foo = ExampleClass(1)\n",
    "bar = ExampleClass(2)\n",
    "\n",
    "print(str(ExampleClass.__dict__))\n",
    "print(str(foo.__dict__))\n",
    "print(str(bar.__dict__))\n"
   ]
  },
  {
   "cell_type": "markdown",
   "metadata": {},
   "source": [
    " \n",
    "\n",
    "<p pid=\"21\">When you access an attribute (instance or class attribute) as a property of&nbsp;an object using the dot convention, it searches first in the namespace of that object for that attribute name.<br>\n",
    " If it is&nbsp;found, it returns the&nbsp;value, otherwise, it searches in the namespace of the class. \n",
    "    \n",
    "<span id=\"_tmp_pre_9\">.</span>&nbsp;The object namespace is before the class namespace.</p> \n",
    "<p pid=\"21\">If we find, in one class, both an instance attribute and a class attribute with the same name, the access to that name from your object will get you the value in the object namespace.</p> "
   ]
  },
  {
   "cell_type": "code",
   "execution_count": 17,
   "metadata": {},
   "outputs": [
    {
     "name": "stdout",
     "output_type": "stream",
     "text": [
      "0\n",
      "5\n",
      "0\n"
     ]
    }
   ],
   "source": [
    "\n",
    "foo = ExampleClass(1)\n",
    "bar = ExampleClass(2)\n",
    "\n",
    "#print the class attribute as a porperty of a foo\n",
    "print(foo.class_attr)\n",
    "#0\n",
    "#modify the class attribute as a foo property\n",
    "foo.class_attr = 5\n",
    "print(foo.class_attr)\n",
    "#5\n",
    "#print the class attribute as a porperty of a bar\n",
    "print(bar.class_attr)\n",
    "# 0 \n",
    "#oups !!!!"
   ]
  }
 ],
 "metadata": {
  "kernelspec": {
   "display_name": "Python 3",
   "language": "python",
   "name": "python3"
  },
  "language_info": {
   "codemirror_mode": {
    "name": "ipython",
    "version": 3
   },
   "file_extension": ".py",
   "mimetype": "text/x-python",
   "name": "python",
   "nbconvert_exporter": "python",
   "pygments_lexer": "ipython3",
   "version": "3.7.3"
  }
 },
 "nbformat": 4,
 "nbformat_minor": 2
}
