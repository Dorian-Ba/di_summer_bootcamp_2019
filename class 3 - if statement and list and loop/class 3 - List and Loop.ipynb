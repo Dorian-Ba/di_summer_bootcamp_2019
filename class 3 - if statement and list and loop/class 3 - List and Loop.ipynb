{
 "cells": [
  {
   "cell_type": "markdown",
   "metadata": {},
   "source": [
    "## Lists\n",
    "Lists let you store a collection of items. These items can be of any type: integers, strings, booleans or even other lists."
   ]
  },
  {
   "cell_type": "markdown",
   "metadata": {},
   "source": [
    "#### Syntax\n",
    "To declare a list, we use square brackets [] then add in items separated by commas.\n",
    "```python\n",
    "fruits = ['apple', 'banana', 'kiwi', 'pear']\n",
    "```\n"
   ]
  },
  {
   "cell_type": "markdown",
   "metadata": {},
   "source": [
    "#### Access\n",
    "To access an element of a list, we use the index of that element in the list. In programming we always count from zero, so the first item of a list is element."
   ]
  },
  {
   "cell_type": "code",
   "execution_count": null,
   "metadata": {},
   "outputs": [],
   "source": [
    "fruits = ['apple', 'banana', 'kiwi', 'pear']\n",
    "#First element: \n",
    "print(fruits[0])\n",
    "\n",
    "#Last element\n",
    "print(fruits[-1])\n",
    "\n",
    "#Any other item\n",
    "print(fruits[2])\n"
   ]
  },
  {
   "cell_type": "markdown",
   "metadata": {},
   "source": [
    "#### Functions related to list\n",
    "\n",
    "<a href=\"https://docs.python.org/3/tutorial/datastructures.html#more-on-lists\">See the official documentation here</a>\n",
    "\n",
    "- len(list): retrieve the number of items contained in a given list.\n",
    "- sum(list): get the sum of all numbers again through a function.\n",
    "- sorted(list,reverse=False): sort ascending elements of a list\n",
    "- sorted(list,reverse=True): sort descending elements of a list"
   ]
  },
  {
   "cell_type": "code",
   "execution_count": 15,
   "metadata": {},
   "outputs": [
    {
     "name": "stdout",
     "output_type": "stream",
     "text": [
      "4\n",
      "30\n"
     ]
    }
   ],
   "source": [
    "fruits = ['kiwi', 'pear','apple', 'banana']\n",
    "count=len(fruits)\n",
    "print(count)\n",
    "num = [5, 10,5, 10]\n",
    "total=sum(num)\n",
    "print(total)\n",
    "\n",
    "\n",
    "\n"
   ]
  },
  {
   "cell_type": "code",
   "execution_count": 8,
   "metadata": {},
   "outputs": [
    {
     "name": "stdout",
     "output_type": "stream",
     "text": [
      "['apple', 'banana', 'kiwi', 'pear']\n"
     ]
    }
   ],
   "source": [
    "fruits = ['kiwi', 'pear','apple', 'banana']\n",
    "sorted_fruits=sorted(fruits,reverse=False)\n",
    "print(sorted_fruits)"
   ]
  },
  {
   "cell_type": "markdown",
   "metadata": {},
   "source": [
    "- list.append(element): add element to the end of the list\n",
    "- list.remove(element): remove from a list, the element in parameter.\n",
    "- list.pop(index): remove from a list, the element located in index parameter."
   ]
  },
  {
   "cell_type": "code",
   "execution_count": 13,
   "metadata": {},
   "outputs": [
    {
     "name": "stdout",
     "output_type": "stream",
     "text": [
      "[1, 2, 3, 4, 5]\n",
      "[1, 2, 3, 4, 5, 6]\n",
      "[1, 2, 4, 5, 6]\n",
      "[2, 4, 5, 6]\n",
      "[4, 5, 6]\n"
     ]
    }
   ],
   "source": [
    "l=[1,2,3,4,5]\n",
    "print(l)\n",
    "l.append(6)\n",
    "print(l)\n",
    "l.remove(3)\n",
    "print(l)\n",
    "l.pop(0)\n",
    "print(l)\n",
    "l.pop(0)\n",
    "print(l)"
   ]
  },
  {
   "cell_type": "markdown",
   "metadata": {},
   "source": [
    "## Exercice\n",
    "\n",
    "[3, 47, 99, -80, 22, 97, 54, -23, 5, 7]\n",
    "\n",
    "- Calculate the average of the list\n",
    "- Find the lowest number\n",
    "- Find the highest number\n",
    "- Display the average the lowest and the highest value into the console"
   ]
  },
  {
   "cell_type": "code",
   "execution_count": null,
   "metadata": {},
   "outputs": [],
   "source": [
    "fruits = ['apple', 'banana', 'kiwi', 'pear']\n",
    "fruits.append('orange')\n",
    "print(fruits)\n",
    "fruits.remove('banana')\n",
    "print(fruits)\n",
    "fruits.pop(1)\n",
    "print(fruits)\n"
   ]
  },
  {
   "cell_type": "markdown",
   "metadata": {},
   "source": [
    "## For loop\n",
    "A for loop is used for iterating over a sequence (for example a list). With the for loop we can execute a set of statements, once for each item in a sequence.\n",
    "\n",
    "- For loops start with the keyword __for__. \n",
    "- Then an “iterator”, a variable whose value will change at each turn of the loop. \n",
    "\n",
    "We’ll use this within the loop as the current value for a given iteration of the loop."
   ]
  },
  {
   "cell_type": "code",
   "execution_count": 16,
   "metadata": {},
   "outputs": [
    {
     "name": "stdout",
     "output_type": "stream",
     "text": [
      "apple\n",
      "banana\n",
      "cherry\n"
     ]
    }
   ],
   "source": [
    "fruits = [\"apple\", \"banana\", \"cherry\"]\n",
    "for x in fruits:\n",
    "  print(x)"
   ]
  },
  {
   "cell_type": "markdown",
   "metadata": {},
   "source": [
    "### Exercice\n",
    "Write a program that counts the number of element for a list.\n",
    "```python\n",
    "name=['Alex','Mike','Dylan','Yossi','Michael']\n",
    "```\n",
    "Output: 5"
   ]
  },
  {
   "cell_type": "code",
   "execution_count": 21,
   "metadata": {},
   "outputs": [
    {
     "name": "stdout",
     "output_type": "stream",
     "text": [
      "12\n",
      "34\n",
      "6556\n",
      "8787\n",
      "56\n",
      "5\n"
     ]
    }
   ],
   "source": [
    "nu=[12,34,6556,8787,56]\n",
    "counter=0\n",
    "\n",
    "for n in names:\n",
    "    print(n)\n",
    "    counter=counter+1\n",
    "    \n",
    "print(counter)\n",
    "\n",
    "\n",
    "\n",
    "\n",
    "\n",
    "\n"
   ]
  },
  {
   "cell_type": "markdown",
   "metadata": {},
   "source": [
    "### Exercice\n",
    "Write a program that print the name starting by 'a'\n",
    " \n",
    "```python\n",
    "name=['Alex','Mike','Dylan','yossi','Michael','ary']\n",
    "```\n",
    "__Output:__<br>\n",
    "Alex<br>\n",
    "ary\n"
   ]
  },
  {
   "cell_type": "code",
   "execution_count": 27,
   "metadata": {},
   "outputs": [
    {
     "name": "stdout",
     "output_type": "stream",
     "text": [
      "Dylan\n"
     ]
    }
   ],
   "source": [
    "names=['Alex','Mike','Dylan','yossi','Michael','ary']\n",
    "#solution 1\n",
    "for n in names:\n",
    "    if n[0]=='B' or n[0]=='b':\n",
    "        print(n)\n",
    "        \n",
    "#solution 2\n",
    "#for n in names:\n",
    "#    temp=n.lower()\n",
    "#    if temp[0]==\"d\":\n",
    "#        print(n)"
   ]
  },
  {
   "cell_type": "markdown",
   "metadata": {},
   "source": [
    "## Ranges\n",
    "Ranges let you generate a sequence of numbers from a start value to and end value.\n",
    "\n",
    "To create a new range you use the range function and pass it a start and end value. The end value is non inclusive meaning that if you iterate over a range, that last value will not be included."
   ]
  },
  {
   "cell_type": "code",
   "execution_count": 29,
   "metadata": {},
   "outputs": [
    {
     "name": "stdout",
     "output_type": "stream",
     "text": [
      "range(0, 6)\n"
     ]
    }
   ],
   "source": [
    "numbers=range(0,6)\n",
    "print(numbers)"
   ]
  },
  {
   "cell_type": "markdown",
   "metadata": {},
   "source": [
    "When can iterate a range by using a for loop:"
   ]
  },
  {
   "cell_type": "code",
   "execution_count": 30,
   "metadata": {},
   "outputs": [
    {
     "name": "stdout",
     "output_type": "stream",
     "text": [
      "0\n",
      "1\n",
      "2\n",
      "3\n",
      "4\n",
      "5\n"
     ]
    }
   ],
   "source": [
    "numbers=range(0,6)\n",
    "for n in numbers:\n",
    "    print(n)"
   ]
  },
  {
   "cell_type": "markdown",
   "metadata": {},
   "source": [
    "## Exercice\n",
    "\n",
    "Write a Python program that prints all the numbers from 0 to 10 except 3 and 6. <br>\n",
    "Expected Output : 0 1 2 4 5 7 8 9 10"
   ]
  },
  {
   "cell_type": "code",
   "execution_count": 35,
   "metadata": {},
   "outputs": [
    {
     "name": "stdout",
     "output_type": "stream",
     "text": [
      "0\n",
      "1\n",
      "2\n",
      "4\n",
      "5\n",
      "7\n",
      "8\n",
      "9\n",
      "10\n"
     ]
    }
   ],
   "source": [
    "range_0_10=range(0,11)\n",
    "for number in range_0_10:\n",
    "    if not(number==6 or number==3):\n",
    "        print(number)\n"
   ]
  },
  {
   "cell_type": "code",
   "execution_count": 36,
   "metadata": {},
   "outputs": [
    {
     "data": {
      "text/plain": [
       "False"
      ]
     },
     "execution_count": 36,
     "metadata": {},
     "output_type": "execute_result"
    }
   ],
   "source": [
    "not(True)"
   ]
  },
  {
   "cell_type": "markdown",
   "metadata": {},
   "source": [
    "## A nested loop is a loop inside a loop.\n",
    "\n",
    "The \"inner loop\" will be executed one time for each iteration of the \"outer loop\":"
   ]
  },
  {
   "cell_type": "code",
   "execution_count": 37,
   "metadata": {},
   "outputs": [
    {
     "name": "stdout",
     "output_type": "stream",
     "text": [
      "red apple\n",
      "red banana\n",
      "red cherry\n",
      "big apple\n",
      "big banana\n",
      "big cherry\n",
      "tasty apple\n",
      "tasty banana\n",
      "tasty cherry\n"
     ]
    }
   ],
   "source": [
    "adj = [\"red\", \"big\", \"tasty\"]\n",
    "fruits = [\"apple\", \"banana\", \"cherry\"]\n",
    "\n",
    "for x in adj:\n",
    "  for y in fruits:\n",
    "    print(x+' '+y)"
   ]
  },
  {
   "cell_type": "code",
   "execution_count": 3,
   "metadata": {},
   "outputs": [
    {
     "name": "stdout",
     "output_type": "stream",
     "text": [
      "*      \n",
      "*      \n",
      "*      \n",
      "*      \n",
      "*      \n",
      "*      \n",
      "****** \n",
      "\n"
     ]
    }
   ],
   "source": [
    "result_str=\"\";    \n",
    "for row in range(0,7):    \n",
    "    for column in range(0,7):     \n",
    "        if (column == 0 or (row == 6 and column < 6)):  \n",
    "            result_str=result_str+\"*\"    \n",
    "        else:      \n",
    "            result_str=result_str+\" \"    \n",
    "    result_str=result_str+\"\\n\"    \n",
    "print(result_str);"
   ]
  }
 ],
 "metadata": {
  "kernelspec": {
   "display_name": "Python 3",
   "language": "python",
   "name": "python3"
  },
  "language_info": {
   "codemirror_mode": {
    "name": "ipython",
    "version": 3
   },
   "file_extension": ".py",
   "mimetype": "text/x-python",
   "name": "python",
   "nbconvert_exporter": "python",
   "pygments_lexer": "ipython3",
   "version": "3.7.3"
  }
 },
 "nbformat": 4,
 "nbformat_minor": 2
}
