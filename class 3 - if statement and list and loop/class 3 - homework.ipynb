{
 "cells": [
  {
   "cell_type": "markdown",
   "metadata": {},
   "source": [
    "## Exercice\n",
    "Create a board as following by using for loops:\n",
    "\n",
    "X<br>\n",
    "XX<br>\n",
    "XXX<br>\n",
    "XXXX<br>\n",
    "XXXXX<br>\n",
    "XXXXXX<br>\n",
    "XXXXX<br>\n",
    "XXXX<br>\n",
    "XXX<br>\n",
    "XX<br>\n",
    "X"
   ]
  },
  {
   "cell_type": "markdown",
   "metadata": {},
   "source": [
    "## Exercice\n",
    "Given a list of names, say hello only to people whose name start with a S or s\n",
    "\n",
    "\n",
    "names = [\"Steve\", \"Jeff\", \"Stan\", \"Hailey\", \"Barry\", \"Snot\", \"Francine\", \"Roger\"]"
   ]
  },
  {
   "cell_type": "markdown",
   "metadata": {},
   "source": [
    "## Exercice \n",
    "Write a Python program to print alphabet pattern 'T'. Go to the editor<br>\n",
    " "
   ]
  },
  {
   "cell_type": "code",
   "execution_count": null,
   "metadata": {},
   "outputs": [],
   "source": [
    "Expected Output:\n",
    " *****                                                                  \n",
    "   *                                                                    \n",
    "   *                                                                    \n",
    "   *                                                                    \n",
    "   *                                                                    \n",
    "   *                                                                    \n",
    "   * "
   ]
  },
  {
   "cell_type": "markdown",
   "metadata": {},
   "source": [
    "## Exercice\n",
    "We are given a list of 10 integers to analyze.\n",
    "Repeat the questions below with the following lists of numbers:<br>\n",
    "[3, 47, 99, -80, 22, 97, 54, -23, 5, 7]<br>\n",
    "[44, 9l, 8, 24, -6, 0, 56, 8, 100, 2]<br>\n",
    "[3, 21, 76, 53, 9, -82, -3, 49, 1, 76]<br>\n",
    "[18, 19, 2, 56, 33, 17, 41, -63, -82, 1]<br>\n",
    "\n",
    "1.  Store the list of numbers in a variable.\n",
    "2.  We will now print some information about the list of numbers. Each time, print the answer together with a helpful message that tells the user what you are printing. \n",
    "3.  Print the following information:\n",
    "1.  The list of numbers – printed in a single line\n",
    "2.  The list of numbers – sorted in descending order (largest to smallest)\n",
    "3.  The sum of all the numbers\n",
    "4.  A list containing the first and the last numbers only\n",
    "5.  A list of all the numbers greater than 50\n",
    "6.  A list of all the numbers smaller than 10\n",
    "7.  A list of all of the numbers squared – eg. for [1, 2, 3] you would print “1 4 9”"
   ]
  }
 ],
 "metadata": {
  "kernelspec": {
   "display_name": "Python 3",
   "language": "python",
   "name": "python3"
  },
  "language_info": {
   "codemirror_mode": {
    "name": "ipython",
    "version": 3
   },
   "file_extension": ".py",
   "mimetype": "text/x-python",
   "name": "python",
   "nbconvert_exporter": "python",
   "pygments_lexer": "ipython3",
   "version": "3.7.3"
  }
 },
 "nbformat": 4,
 "nbformat_minor": 2
}
