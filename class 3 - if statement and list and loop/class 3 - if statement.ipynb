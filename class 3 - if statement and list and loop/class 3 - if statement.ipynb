{
 "cells": [
  {
   "cell_type": "markdown",
   "metadata": {},
   "source": [
    "## Python Comparison Operators\n",
    "Comparison operators are used to compare two values. \n",
    "The result of a comparaison is a condition which return a bool value \n",
    "\n",
    "<li> <b>==</b> :Equal\tx == y\t</li>\n",
    "<li> <b>!=</b> :Not equal\tx != y\t</li>\n",
    "<li> <b>></b> :Greater than\tx > y\t</li>\n",
    "<li> <b><</b> :Less than\tx < y\t</li>\n",
    "<li> <b>>=</b>:Greater than or equal to\tx >= y</li>\t\n",
    "<li> <b><=</b>:Less than or equal to\tx <= y</li>\n",
    "\n"
   ]
  },
  {
   "cell_type": "markdown",
   "metadata": {},
   "source": [
    "## If statement\n",
    "\n",
    "Condition can be used in several ways, most commonly in \"if statements\".\n",
    "\n",
    "if statement tests for a condition, and then responds to that condition. If the condition is true, then whatever action is listed next gets carried out. \n",
    "\n",
    "__Simple condition__\n",
    "```python\n",
    "if condition:\n",
    "    #do something\n",
    "```\n",
    "__Full condition__\n",
    "```python\n",
    "if condition:\n",
    "    #do something\n",
    "else:\n",
    "    #do something else\n",
    "```\n",
    "\n",
    "__Multiple condition__\n",
    "```python\n",
    "if condition:\n",
    "    #do something\n",
    "elif condition:\n",
    "    #do something \n",
    "elif condition:\n",
    "    #do something \n",
    "else:\n",
    "    #do something \n",
    "```\n"
   ]
  },
  {
   "cell_type": "code",
   "execution_count": null,
   "metadata": {},
   "outputs": [],
   "source": [
    "#simple condition\n",
    "age=input('Insert age:')\n",
    "age=int(age)\n",
    "if age>=18:\n",
    "    print(\"You are an adult\")\n",
    "\n",
    "            "
   ]
  },
  {
   "cell_type": "code",
   "execution_count": null,
   "metadata": {},
   "outputs": [],
   "source": [
    "#full condition\n",
    "age=input('Insert age:')\n",
    "age=int(age)\n",
    "if age>=18:\n",
    "    print(\"You are an adult\")\n",
    "else:\n",
    "    print(\"You are a young\")"
   ]
  },
  {
   "cell_type": "code",
   "execution_count": null,
   "metadata": {},
   "outputs": [],
   "source": []
  },
  {
   "cell_type": "code",
   "execution_count": null,
   "metadata": {},
   "outputs": [],
   "source": []
  },
  {
   "cell_type": "code",
   "execution_count": null,
   "metadata": {},
   "outputs": [],
   "source": [
    "#multiple condition\n",
    "gender=input('Insert gender:')\n",
    "if gender==\"male\":\n",
    "    print(\"You are a man\")\n",
    "elif gender==\"female\":\n",
    "    print(\"You are a woman\")\n",
    "else:\n",
    "    print(\"I don't who you are\")          "
   ]
  },
  {
   "cell_type": "code",
   "execution_count": null,
   "metadata": {},
   "outputs": [],
   "source": [
    "#nested conditions\n",
    "age=input('Insert age:')\n",
    "age=int(age)\n",
    "gender=input('Insert gender:')\n",
    "if age>=18:\n",
    "    if gender==\"male\":\n",
    "        print(\"You are a man\")\n",
    "    else:\n",
    "        print(\"You are a woman\")    \n",
    "else:\n",
    "    if gender==\"male\":\n",
    "        print(\"You are a boy\")\n",
    "    else:\n",
    "        print(\"You are a girl\")\n",
    "    \n",
    "            "
   ]
  },
  {
   "cell_type": "markdown",
   "metadata": {},
   "source": [
    "## Exercice - The greatest number\n",
    "Take three numbers from the user and print the greatest number.\n",
    "\n",
    "Test Data<br>\n",
    "Input the 1st number: 25 <br>\n",
    "Input the 2nd number: 78 <br>\n",
    "Input the 3rd number: 87 <br>\n",
    "\n",
    "The greatest number is: 87 <br>"
   ]
  },
  {
   "cell_type": "code",
   "execution_count": 3,
   "metadata": {},
   "outputs": [
    {
     "name": "stdout",
     "output_type": "stream",
     "text": [
      "type number 1:10\n",
      "type number 2:8\n",
      "type number 3:12\n",
      "12\n"
     ]
    }
   ],
   "source": [
    "n1=input(\"type number 1:\")\n",
    "n1=int(n1)\n",
    "n2=input(\"type number 2:\")\n",
    "n2=int(n2)\n",
    "n3=input(\"type number 3:\")\n",
    "n3=int(n3)\n",
    "\n",
    "if n1>n2:\n",
    "    if n1>n3:\n",
    "        print(n1)\n",
    "    else:\n",
    "        print(n3)\n",
    "else:\n",
    "    if n2>n3:\n",
    "        print(n2)\n",
    "    else:\n",
    "        print(n3)\n",
    "    "
   ]
  },
  {
   "cell_type": "markdown",
   "metadata": {},
   "source": [
    "## Python Logical Operators\n",
    "Condition can be also combined with logical condition\n",
    "<li> <b>and</b> : Returns True if both statements are true.<b>x < 5 and  x < 10</b></li>\n",
    "<li> <b>or</b> :Returns True if one of the statements is true. <b>x < 5 or x < 4</b></li>\n",
    "<li> <b>not</b> :Returns False if the result is true. <b>not(x < 5 and x < 10)</b></li>\n"
   ]
  },
  {
   "cell_type": "code",
   "execution_count": null,
   "metadata": {},
   "outputs": [],
   "source": [
    "age=input(\"Insert your age:\")\n",
    "age=int(age)\n",
    "if 0<age and age<2:\n",
    "    print(\"you are a baby\")\n",
    "elif 2<=age and age<18:\n",
    "    print(\"you are a boy\")\n",
    "elif 18<=age and age<24:\n",
    "    print(\"you are a young adult\")\n",
    "elif 25<=age and age<30:\n",
    "    print(\"you are an adult\")"
   ]
  },
  {
   "cell_type": "markdown",
   "metadata": {},
   "source": [
    "## Exercices - The 4 seasons\n",
    "\n",
    "- Ask to the user to insert a month (from 1 to 12)\n",
    "- Display the season of the month inserted\n",
    "\n",
    "Spring runs from March (3) to May (5);<br>\n",
    "Summer runs from June (6) to August (8);<br>\n",
    "Autumn runs from September (9) to November (11);<br>\n",
    "Winter runs from December (12) to February (2);<br>"
   ]
  },
  {
   "cell_type": "code",
   "execution_count": 13,
   "metadata": {},
   "outputs": [
    {
     "name": "stdout",
     "output_type": "stream",
     "text": [
      "Insert a month:-6\n",
      "Error you did not insert a month\n"
     ]
    }
   ],
   "source": [
    "month=input(\"Insert a month:\")\n",
    "month=int(month)\n",
    "\n",
    "if month>=3 and month<=5:\n",
    "    print(\"Spring\")\n",
    "elif month>=6 and month<=8:\n",
    "    print(\"Summer\")\n",
    "elif month>=9 and month<=11:\n",
    "    print(\"Autumn\")\n",
    "elif month>12 or (month<=2 and month>=1):\n",
    "    print(\"Winter\")\n",
    "else:\n",
    "    print(\"Error you did not insert a month\")\n",
    "\n"
   ]
  },
  {
   "cell_type": "code",
   "execution_count": null,
   "metadata": {},
   "outputs": [],
   "source": []
  },
  {
   "cell_type": "code",
   "execution_count": null,
   "metadata": {},
   "outputs": [],
   "source": []
  }
 ],
 "metadata": {
  "kernelspec": {
   "display_name": "Python 3",
   "language": "python",
   "name": "python3"
  },
  "language_info": {
   "codemirror_mode": {
    "name": "ipython",
    "version": 3
   },
   "file_extension": ".py",
   "mimetype": "text/x-python",
   "name": "python",
   "nbconvert_exporter": "python",
   "pygments_lexer": "ipython3",
   "version": "3.7.3"
  }
 },
 "nbformat": 4,
 "nbformat_minor": 2
}
