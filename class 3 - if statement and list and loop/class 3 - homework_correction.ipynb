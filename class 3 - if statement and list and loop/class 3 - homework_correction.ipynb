{
 "cells": [
  {
   "cell_type": "markdown",
   "metadata": {},
   "source": [
    "## Exercice\n",
    "Create a board as following by using for loops:\n",
    "\n",
    "X<br>\n",
    "XX<br>\n",
    "XXX<br>\n",
    "XXXX<br>\n",
    "XXXXX<br>\n",
    "XXXXXX<br>\n",
    "XXXXX<br>\n",
    "XXXX<br>\n",
    "XXX<br>\n",
    "XX<br>\n",
    "X"
   ]
  },
  {
   "cell_type": "code",
   "execution_count": 23,
   "metadata": {},
   "outputs": [
    {
     "name": "stdout",
     "output_type": "stream",
     "text": [
      "\n",
      "x\n",
      "xx\n",
      "xxx\n",
      "xxxx\n",
      "\n"
     ]
    }
   ],
   "source": [
    "pattern=\"\"\n",
    "for l in range(1,6):\n",
    "    for c in range(1,l):\n",
    "        pattern=pattern+'x'\n",
    "    pattern=pattern+'\\n'\n",
    "print(pattern) \n",
    "\n",
    " \n",
    "    \n",
    "\n",
    "\n",
    "\n",
    "\n"
   ]
  },
  {
   "cell_type": "code",
   "execution_count": 13,
   "metadata": {},
   "outputs": [],
   "source": [
    "for x in range(1,1):\n",
    "    print(\"hello\")\n"
   ]
  },
  {
   "cell_type": "code",
   "execution_count": 4,
   "metadata": {},
   "outputs": [
    {
     "name": "stdout",
     "output_type": "stream",
     "text": [
      "x\n",
      "xx\n",
      "xxx\n",
      "xxxx\n",
      "xxxxx\n",
      "xxxxxx\n",
      "xxxxx\n",
      "xxxx\n",
      "xxx\n",
      "xx\n",
      "x\n",
      "\n"
     ]
    }
   ],
   "source": [
    "pattern=\"\"\n",
    "for line in range(1,7):\n",
    "    number_x=line\n",
    "    for column in range(number_x):\n",
    "        pattern=pattern+'x'\n",
    "    pattern=pattern+'\\n'\n",
    "\n",
    "for line in range(1,6):\n",
    "    number_x=6-line\n",
    "    for column in range(number_x):\n",
    "        pattern=pattern+'x'\n",
    "    pattern=pattern+'\\n'\n",
    "\n",
    "print(pattern)\n"
   ]
  },
  {
   "cell_type": "markdown",
   "metadata": {},
   "source": [
    "## Exercice\n",
    "Given a list of names, say hello only to people whose name start with a S or s\n",
    "\n",
    "\n",
    "names = [\"Steve\", \"Jeff\", \"Stan\", \"Hailey\", \"Barry\", \"Snot\", \"Francine\", \"Roger\"]"
   ]
  },
  {
   "cell_type": "code",
   "execution_count": 30,
   "metadata": {},
   "outputs": [
    {
     "name": "stdout",
     "output_type": "stream",
     "text": [
      "Steve\n",
      "Stan\n",
      "Snot\n"
     ]
    }
   ],
   "source": [
    "names = [\"Steve\", \"Jeff\", \"Stan\", \"Hailey\", \"Barry\", \"Snot\", \"Francine\", \"Roger\"]\n",
    "\n",
    "for n in names:\n",
    "    if n[0]=='S' or n[0]=='s':\n",
    "        print(n)"
   ]
  },
  {
   "cell_type": "markdown",
   "metadata": {},
   "source": [
    "## Exercice \n",
    "Write a Python program to print alphabet pattern 'T'. Go to the editor<br>\n",
    " "
   ]
  },
  {
   "cell_type": "code",
   "execution_count": null,
   "metadata": {},
   "outputs": [],
   "source": [
    "Expected Output:\n",
    " *****                                                                  \n",
    "   *                                                                    \n",
    "   *                                                                    \n",
    "   *                                                                    \n",
    "   *                                                                    \n",
    "   *                                                                    \n",
    "   * "
   ]
  },
  {
   "cell_type": "code",
   "execution_count": 28,
   "metadata": {},
   "outputs": [
    {
     "name": "stdout",
     "output_type": "stream",
     "text": [
      "*****\n",
      "  *  \n",
      "  *  \n",
      "  *  \n",
      "  *  \n",
      "  *  \n",
      "  *  \n",
      "\n"
     ]
    }
   ],
   "source": [
    "pattern=\"\"\n",
    "for line in range(1,8):\n",
    "    for column in range(1,6):\n",
    "        if line==1:\n",
    "            pattern=pattern+'*'\n",
    "        else:\n",
    "            if column==3:\n",
    "                pattern=pattern+'*'\n",
    "            else:\n",
    "                pattern=pattern+' '\n",
    "\n",
    "    pattern=pattern+'\\n'\n",
    "\n",
    "print(pattern)\n",
    "            \n"
   ]
  },
  {
   "cell_type": "code",
   "execution_count": 33,
   "metadata": {},
   "outputs": [
    {
     "name": "stdout",
     "output_type": "stream",
     "text": [
      "*****\n",
      "  *  \n",
      "  *  \n",
      "  *  \n",
      "  *  \n",
      "  *  \n",
      "  *  \n",
      "\n"
     ]
    }
   ],
   "source": [
    "result_str=\"\";    \n",
    "for row in range(0,7):    \n",
    "    for column in range(0,5):     \n",
    "        if (column == 2 or row == 0):  \n",
    "            result_str=result_str+\"*\"    \n",
    "        else:      \n",
    "            result_str=result_str+\" \"    \n",
    "    result_str=result_str+\"\\n\"    \n",
    "print(result_str);"
   ]
  },
  {
   "cell_type": "markdown",
   "metadata": {},
   "source": [
    "## Exercice\n",
    "We are given a list of 10 integers to analyze.\n",
    "Repeat the questions below with the following lists of numbers:<br>\n",
    "[3, 47, 99, -80, 22, 97, 54, -23, 5, 7]<br>\n",
    "[44, 9l, 8, 24, -6, 0, 56, 8, 100, 2]<br>\n",
    "[3, 21, 76, 53, 9, -82, -3, 49, 1, 76]<br>\n",
    "[18, 19, 2, 56, 33, 17, 41, -63, -82, 1]<br>\n",
    "\n",
    "1.  Store the list of numbers in a variable.\n",
    "2.  We will now print some information about the list of numbers. Each time, print the answer together with a helpful message that tells the user what you are printing. \n",
    "3.  Print the following information:\n",
    "1.  The list of numbers – printed in a single line\n",
    "2.  The list of numbers – sorted in descending order (largest to smallest)\n",
    "3.  The sum of all the numbers\n",
    "4.  A list containing the first and the last numbers only\n",
    "5.  A list of all the numbers greater than 50\n",
    "6.  A list of all the numbers smaller than 10\n",
    "7.  A list of all of the numbers squared – eg. for [1, 2, 3] you would print “1 4 9”"
   ]
  },
  {
   "cell_type": "code",
   "execution_count": 34,
   "metadata": {},
   "outputs": [
    {
     "name": "stdout",
     "output_type": "stream",
     "text": [
      "3\n",
      "47\n",
      "99\n",
      "-80\n",
      "22\n",
      "97\n",
      "54\n",
      "-23\n",
      "5\n",
      "7\n",
      "[99, 97, 54, 47, 22, 7, 5, 3, -23, -80]\n",
      "The total is equal to 231\n",
      "[3, 7]\n",
      "[99, 97, 54]\n",
      "[3, -80, -23, 5, 7]\n"
     ]
    }
   ],
   "source": [
    "list_number=[3, 47, 99, -80, 22, 97, 54, -23, 5, 7]\n",
    "for n in list_number:\n",
    "    print(n)\n",
    "list_number_inversed=sorted(list_number,reverse=True)\n",
    "print(list_number_inversed)\n",
    "sum_number=0\n",
    "for n in list_number:\n",
    "    sum_number=sum_number+n\n",
    "print(\"The total is equal to {}\".format(sum_number))\n",
    "short_list=[]\n",
    "first_element=list_number[0]\n",
    "last_element=list_number[-1]\n",
    "#last_element=list_number[len(list_number)-1]\n",
    "short_list.append(first_element)\n",
    "short_list.append(last_element)\n",
    "print(short_list)\n",
    "\n",
    "list_50=[]\n",
    "for n in list_number:\n",
    "    if n>50:\n",
    "        list_50.append(n)\n",
    "print(list_50)\n",
    "\n",
    "list_10=[]\n",
    "for n in list_number:\n",
    "    if n<10:\n",
    "        list_10.append(n)\n",
    "print(list_10)\n",
    "\n",
    "\n",
    "list_number_squarred=[]\n",
    "for n in list_number:\n",
    "        list_number_squarred.append(n*n)\n"
   ]
  },
  {
   "cell_type": "code",
   "execution_count": null,
   "metadata": {},
   "outputs": [],
   "source": []
  }
 ],
 "metadata": {
  "kernelspec": {
   "display_name": "Python 3",
   "language": "python",
   "name": "python3"
  },
  "language_info": {
   "codemirror_mode": {
    "name": "ipython",
    "version": 3
   },
   "file_extension": ".py",
   "mimetype": "text/x-python",
   "name": "python",
   "nbconvert_exporter": "python",
   "pygments_lexer": "ipython3",
   "version": "3.7.3"
  }
 },
 "nbformat": 4,
 "nbformat_minor": 2
}
