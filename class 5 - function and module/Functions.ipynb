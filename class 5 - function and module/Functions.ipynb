{
 "cells": [
  {
   "cell_type": "markdown",
   "metadata": {},
   "source": [
    "# Functions\n",
    "\n",
    "## Named blocks of code which are designed to do one specific job\n"
   ]
  },
  {
   "cell_type": "markdown",
   "metadata": {},
   "source": [
    "## Define a function\n",
    "<pre>\n",
    "def name_of_the_function():\n",
    "    DO ...\n",
    "</pre>"
   ]
  },
  {
   "cell_type": "code",
   "execution_count": 1,
   "metadata": {},
   "outputs": [
    {
     "name": "stdout",
     "output_type": "stream",
     "text": [
      "Hello World !\n"
     ]
    }
   ],
   "source": [
    "def print_hello_world():\n",
    "    print(\"Hello World !\")\n",
    "    \n",
    "print_hello_world()"
   ]
  },
  {
   "cell_type": "markdown",
   "metadata": {},
   "source": [
    "## Define a function with parameters\n",
    "<pre>\n",
    "def name_of_the_function(parameters):\n",
    "    DO ...\n",
    "</pre>"
   ]
  },
  {
   "cell_type": "code",
   "execution_count": 1,
   "metadata": {},
   "outputs": [],
   "source": [
    "def heighest_number(number1, number2):\n",
    "    if number1 > number2:\n",
    "        heighest = number1\n",
    "    else:\n",
    "        heighest = number2\n",
    "    \n",
    "    print(\"heighest number is\", heighest)"
   ]
  },
  {
   "cell_type": "markdown",
   "metadata": {},
   "source": [
    "## /!\\ \n",
    "-  Variables defined in the function die at the end of the function execution"
   ]
  },
  {
   "cell_type": "markdown",
   "metadata": {},
   "source": [
    "## Call a function\n"
   ]
  },
  {
   "cell_type": "code",
   "execution_count": 2,
   "metadata": {},
   "outputs": [
    {
     "name": "stdout",
     "output_type": "stream",
     "text": [
      "heighest number is 6\n",
      "heighest number is 7\n"
     ]
    }
   ],
   "source": [
    "# Way one: positional arguments\n",
    "# Order matters\n",
    "heighest_number(5,6)\n",
    "\n",
    "# Way two: keywords arguments\n",
    "# Order doesn't matter\n",
    "heighest_number(number2=3, number1=7)"
   ]
  },
  {
   "cell_type": "markdown",
   "metadata": {},
   "source": [
    "## Default values\n",
    "<pre>\n",
    "def function_name(argument1=default_value):\n",
    "    DO ...\n",
    "</pre>\n",
    "\n",
    "If nothing is passed as argument1, it will be assigned to default_value"
   ]
  },
  {
   "cell_type": "code",
   "execution_count": 5,
   "metadata": {},
   "outputs": [
    {
     "name": "stdout",
     "output_type": "stream",
     "text": [
      "heighest number is 5\n",
      "heighest number is 5\n",
      "heighest number is 5\n",
      "heighest number is 5\n",
      "heighest number is 12\n"
     ]
    }
   ],
   "source": [
    "def heighest_number(number1, number2=0):\n",
    "    if number1 > number2:\n",
    "        heighest = number1\n",
    "    else:\n",
    "        heighest = number2\n",
    "    \n",
    "    print(\"heighest number is\",heighest)\n",
    "    \n",
    "heighest_number(5)\n",
    "heighest_number(2,5)\n",
    "heighest_number(number2=2,number1=5)\n",
    "heighest_number(number1=5)\n",
    "heighest_number(number2=12,number1=1)\n"
   ]
  },
  {
   "cell_type": "code",
   "execution_count": null,
   "metadata": {},
   "outputs": [],
   "source": [
    "def heighest_number(number2,number1=5):\n",
    "    if number1 > number2:\n",
    "        heighest = number1\n",
    "    else:\n",
    "        heighest = number2\n",
    "    \n",
    "    print(\"heighest number is\",heighest)\n"
   ]
  },
  {
   "cell_type": "markdown",
   "metadata": {},
   "source": [
    "# ------------------------------------------------------------------------------------------------------------\n",
    "# Exercises\n",
    "\n"
   ]
  },
  {
   "cell_type": "markdown",
   "metadata": {},
   "source": [
    "# 1\n",
    "Write a function called make_shirt() that accepts a size and the\n",
    "text of a message that should be printed on the shirt. The function should print\n",
    "a sentence summarizing the size of the shirt and the message printed on it."
   ]
  },
  {
   "cell_type": "code",
   "execution_count": 6,
   "metadata": {},
   "outputs": [
    {
     "name": "stdout",
     "output_type": "stream",
     "text": [
      "The size is 14 and the message is hello tel aviv\n"
     ]
    }
   ],
   "source": [
    "def make_shirt(size,message):\n",
    "    print(\"The size is {} and the message is {}\".format(size,message))\n",
    "    \n",
    "make_shirt(14,\"hello tel aviv\")    "
   ]
  },
  {
   "cell_type": "markdown",
   "metadata": {},
   "source": [
    "# 2\n",
    "Modify this function so that shirt are larges by default with a message that reads \"I love Python\""
   ]
  },
  {
   "cell_type": "code",
   "execution_count": 8,
   "metadata": {},
   "outputs": [
    {
     "name": "stdout",
     "output_type": "stream",
     "text": [
      "First Call\n",
      "The size is hello tel aviv and the message is 14\n",
      "Second Call\n"
     ]
    }
   ],
   "source": [
    "def make_shirt(message,size=\"Large\"):\n",
    "    if size==\"Large\":\n",
    "        message=\"I love Python\"\n",
    "        \n",
    "    print(\"The size is {} and the message is {}\".format(size,message))\n",
    "    \n",
    "print(\"First Call\")\n",
    "make_shirt(14,\"hello tel aviv\")\n",
    "print(\"Second Call\")\n",
    "#make_shirt(\"blabla\")"
   ]
  },
  {
   "cell_type": "markdown",
   "metadata": {},
   "source": [
    "# 3 ~\n",
    "Write a function that accept two numbers, and then check if they really are numbers, if they are then print their sum."
   ]
  },
  {
   "cell_type": "code",
   "execution_count": 15,
   "metadata": {},
   "outputs": [
    {
     "name": "stdout",
     "output_type": "stream",
     "text": [
      "5+5=10\n"
     ]
    }
   ],
   "source": [
    "def sum_number(n1,n2):\n",
    "    if (type(n1)==int or type(n1)==float) and (type(n2)==int or type(n2)==float):\n",
    "        print(\"{}+{}={}\".format(n1,n2,n1+n2))\n",
    "sum_number(5,5) \n",
    "sum_number(5,\"5\")        "
   ]
  },
  {
   "cell_type": "markdown",
   "metadata": {},
   "source": [
    "# ------------------------------------------------------------------------------------------------------------\n",
    "# Returning values\n",
    "\n",
    "## Usage:\n",
    "\n",
    "<pre>\n",
    "    def function_name(argument1, argument2):\n",
    "        DO ...\n",
    "        return ...\n",
    "</pre>\n",
    "\n",
    "We can return any type of element"
   ]
  },
  {
   "cell_type": "code",
   "execution_count": 3,
   "metadata": {},
   "outputs": [
    {
     "name": "stdout",
     "output_type": "stream",
     "text": [
      "15\n",
      "18\n"
     ]
    }
   ],
   "source": [
    "def heighest_number(number1, number2=0):\n",
    "    if number1 > number2:\n",
    "        heighest = number1\n",
    "    else:\n",
    "        heighest = number2\n",
    "    \n",
    "    return heighest\n",
    "#10 15\n",
    "a=heighest_number(10,15)\n",
    "print(a)\n",
    "\n",
    "#10 18 17\n",
    "high=heighest_number(heighest_number(10,18),17)\n",
    "print(high)"
   ]
  },
  {
   "cell_type": "code",
   "execution_count": 67,
   "metadata": {},
   "outputs": [],
   "source": [
    "my_nb1 = 9\n",
    "my_nb2 = 13\n",
    "\n",
    "my_heighest_nb = heighest_number(my_nb1)"
   ]
  },
  {
   "cell_type": "code",
   "execution_count": 6,
   "metadata": {},
   "outputs": [
    {
     "name": "stdout",
     "output_type": "stream",
     "text": [
      "DDDDD\n"
     ]
    }
   ],
   "source": [
    "def convert_to_upper(name):\n",
    "    return name.upper()\n",
    "\n",
    "a=convert_to_upper(\"ddddd\")\n",
    "print(a)"
   ]
  },
  {
   "cell_type": "markdown",
   "metadata": {},
   "source": [
    "# ------------------------------------------------------------------------------------------------------------\n",
    "# Exercises\n",
    "\n"
   ]
  },
  {
   "cell_type": "markdown",
   "metadata": {},
   "source": [
    "# 1\n",
    "Write a function that gets a number as argument and return a list of numbers from 0 to this number"
   ]
  },
  {
   "cell_type": "code",
   "execution_count": 1,
   "metadata": {},
   "outputs": [
    {
     "name": "stdout",
     "output_type": "stream",
     "text": [
      "[0, 1, 2, 3, 4, 5, 6, 7, 8, 9, 10, 11, 12, 13, 14, 15]\n"
     ]
    }
   ],
   "source": [
    "def list_generator(n):\n",
    "    l=[]\n",
    "    for i in range(0,n+1):\n",
    "        l.append(i)\n",
    "    return l\n",
    "\n",
    "a=list_generator(15)\n",
    "print(a)\n"
   ]
  },
  {
   "cell_type": "markdown",
   "metadata": {},
   "source": [
    "# ------------------------------------------------------------------------------------------------------------\n"
   ]
  },
  {
   "cell_type": "markdown",
   "metadata": {},
   "source": [
    "# Playing with lists"
   ]
  },
  {
   "cell_type": "markdown",
   "metadata": {},
   "source": [
    "## 1. Modifying list in a function"
   ]
  },
  {
   "cell_type": "markdown",
   "metadata": {},
   "source": [
    "# ------------------------------------------------------------------------------------------------------------\n",
    "# Exercises\n",
    "\n"
   ]
  },
  {
   "cell_type": "markdown",
   "metadata": {},
   "source": [
    "## 1\n",
    "\n",
    "Write a function that take a list of first names as argument and add \"Smith\" to each one (this function is supposed to modify the original list)"
   ]
  },
  {
   "cell_type": "code",
   "execution_count": 20,
   "metadata": {},
   "outputs": [
    {
     "name": "stdout",
     "output_type": "stream",
     "text": [
      "['Alibaba Smith', 'Bobi Smith']\n"
     ]
    }
   ],
   "source": [
    "def add_smith(list_names):\n",
    "    for index_value in range(0,len(list_names)):\n",
    "        list_names[index_value]=list_names[index_value]+' Smith'\n",
    "    return list_names\n",
    "\n",
    "list_with_smith=add_smith(['Alibaba','Bobi'])  \n",
    "print(list_with_smith)"
   ]
  },
  {
   "cell_type": "code",
   "execution_count": 21,
   "metadata": {},
   "outputs": [
    {
     "name": "stdout",
     "output_type": "stream",
     "text": [
      "5\n",
      "4\n",
      "3\n",
      "2\n",
      "1\n",
      "0\n"
     ]
    }
   ],
   "source": [
    "for i in range(5,-1,-1):\n",
    "    print(i)"
   ]
  },
  {
   "cell_type": "markdown",
   "metadata": {},
   "source": [
    "## 2\n",
    "\n",
    "Write a function that reverse a list"
   ]
  },
  {
   "cell_type": "code",
   "execution_count": 38,
   "metadata": {},
   "outputs": [
    {
     "data": {
      "text/plain": [
       "[55, 45, 3, 2, 1]"
      ]
     },
     "execution_count": 38,
     "metadata": {},
     "output_type": "execute_result"
    }
   ],
   "source": [
    "def rev(l):\n",
    "    l_rev=[]\n",
    "    for index_value in range(len(l)-1,-1,-1):\n",
    "        l_rev.append(l[index_value])\n",
    "        \n",
    "    return l_rev\n",
    "\n",
    "l=[1,2,3,45,55]\n",
    "l[-1::-1]\n"
   ]
  },
  {
   "cell_type": "markdown",
   "metadata": {},
   "source": [
    "# ------------------------------------------------------------------------------------------------------------\n"
   ]
  },
  {
   "cell_type": "markdown",
   "metadata": {},
   "source": [
    "# Storing our functions in a file"
   ]
  },
  {
   "cell_type": "markdown",
   "metadata": {},
   "source": [
    "## 1. Import a module"
   ]
  },
  {
   "cell_type": "markdown",
   "metadata": {},
   "source": [
    " Make a file my_functions.py with those functions inside:"
   ]
  },
  {
   "cell_type": "code",
   "execution_count": 81,
   "metadata": {},
   "outputs": [],
   "source": [
    "def add_numbers(nb1,nb2):\n",
    "    return nb1+nb2\n",
    "\n",
    "def sub_numbers(nb1, nb2):\n",
    "    return nb1-nb2"
   ]
  },
  {
   "cell_type": "markdown",
   "metadata": {},
   "source": [
    "In another python file, we can import those functions by the following methods"
   ]
  },
  {
   "cell_type": "code",
   "execution_count": null,
   "metadata": {},
   "outputs": [],
   "source": [
    "import my_functions # This will import the file as a variable\n",
    "                    # To access a function: function.add_numbers\n",
    "from my_functions import add_numbers # Import a specific function from functions\n",
    "from my_functions import *"
   ]
  }
 ],
 "metadata": {
  "kernelspec": {
   "display_name": "Python 3",
   "language": "python",
   "name": "python3"
  },
  "language_info": {
   "codemirror_mode": {
    "name": "ipython",
    "version": 3
   },
   "file_extension": ".py",
   "mimetype": "text/x-python",
   "name": "python",
   "nbconvert_exporter": "python",
   "pygments_lexer": "ipython3",
   "version": "3.7.3"
  }
 },
 "nbformat": 4,
 "nbformat_minor": 2
}
