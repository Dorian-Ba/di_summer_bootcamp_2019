{
 "cells": [
  {
   "cell_type": "markdown",
   "metadata": {},
   "source": [
    "# Functions\n",
    "\n",
    "## Named blocks of code which are designed to do one specific job\n"
   ]
  },
  {
   "cell_type": "markdown",
   "metadata": {},
   "source": [
    "## Define a function\n",
    "<pre>\n",
    "def name_of_the_function():\n",
    "    DO ...\n",
    "</pre>"
   ]
  },
  {
   "cell_type": "code",
   "execution_count": 6,
   "metadata": {},
   "outputs": [],
   "source": [
    "def print_hello_world():\n",
    "    print(\"Hello World !\")"
   ]
  },
  {
   "cell_type": "markdown",
   "metadata": {},
   "source": [
    "## Define a function with parameters\n",
    "<pre>\n",
    "def name_of_the_function(parameters):\n",
    "    DO ...\n",
    "</pre>"
   ]
  },
  {
   "cell_type": "code",
   "execution_count": 39,
   "metadata": {},
   "outputs": [],
   "source": [
    "def heighest_number(number1, number2):\n",
    "    if number1 > number2:\n",
    "        heighest = number1\n",
    "    else:\n",
    "        heighest = number2\n",
    "    \n",
    "    print(\"heighest number is\", heighest)"
   ]
  },
  {
   "cell_type": "markdown",
   "metadata": {},
   "source": [
    "## /!\\ \n",
    "-  The name in the function doesn't have to be the name given in the arguments\n",
    "-  Variables defined in the function die at the end of the function execution"
   ]
  },
  {
   "cell_type": "markdown",
   "metadata": {},
   "source": [
    "## Call a function\n"
   ]
  },
  {
   "cell_type": "code",
   "execution_count": 25,
   "metadata": {},
   "outputs": [
    {
     "name": "stdout",
     "output_type": "stream",
     "text": [
      "heighest number is  6\n",
      "heighest number is  7\n"
     ]
    }
   ],
   "source": [
    "# Way one: positional arguments\n",
    "# Order matters\n",
    "heighest_number(5,6)\n",
    "\n",
    "# Way two: keywords arguments\n",
    "# Order doesn't matter\n",
    "heighest_number(number2=3, number1=7)"
   ]
  },
  {
   "cell_type": "markdown",
   "metadata": {},
   "source": [
    "## Default values\n",
    "<pre>\n",
    "def function_name(argument1=default_value):\n",
    "    DO ...\n",
    "</pre>\n",
    "\n",
    "If nothing is passed as argument1, it will be assigned to default_value"
   ]
  },
  {
   "cell_type": "code",
   "execution_count": 43,
   "metadata": {},
   "outputs": [],
   "source": [
    "def heighest_number(number1, number2=0):\n",
    "    if number1 > number2:\n",
    "        heighest = number1\n",
    "    else:\n",
    "        heighest = number2\n",
    "    \n",
    "    print(\"heighest number is\",heighest)"
   ]
  },
  {
   "cell_type": "code",
   "execution_count": null,
   "metadata": {},
   "outputs": [],
   "source": [
    "def heighest_number(number2,number1=5):\n",
    "    if number1 > number2:\n",
    "        heighest = number1\n",
    "    else:\n",
    "        heighest = number2\n",
    "    \n",
    "    print(\"heighest number is\",heighest)\n"
   ]
  },
  {
   "cell_type": "markdown",
   "metadata": {},
   "source": [
    "# ------------------------------------------------------------------------------------------------------------\n",
    "# Exercises\n",
    "\n"
   ]
  },
  {
   "cell_type": "markdown",
   "metadata": {},
   "source": [
    "# 1\n",
    "Write a function called make_shirt() that accepts a size and the\n",
    "text of a message that should be printed on the shirt. The function should print\n",
    "a sentence summarizing the size of the shirt and the message printed on it."
   ]
  },
  {
   "cell_type": "markdown",
   "metadata": {},
   "source": [
    "# 2\n",
    "Modify this function so that shirt are larges by default with a message that reads \"I love Python\""
   ]
  },
  {
   "cell_type": "markdown",
   "metadata": {},
   "source": [
    "# 3 ~\n",
    "Write a function that accept two numbers, and then check if they really are numbers, if they are then print their sum."
   ]
  },
  {
   "cell_type": "markdown",
   "metadata": {},
   "source": [
    "# ------------------------------------------------------------------------------------------------------------\n",
    "# Returning values\n",
    "\n",
    "## Usage:\n",
    "\n",
    "<pre>\n",
    "    def function_name(argument1, argument2):\n",
    "        DO ...\n",
    "        return ...\n",
    "</pre>\n",
    "\n",
    "We can return any type of element"
   ]
  },
  {
   "cell_type": "code",
   "execution_count": 65,
   "metadata": {},
   "outputs": [],
   "source": [
    "def heighest_number(number1, number2=0):\n",
    "    if number1 > number2:\n",
    "        heighest = number1\n",
    "    else:\n",
    "        heighest = number2\n",
    "    \n",
    "    return heighest"
   ]
  },
  {
   "cell_type": "code",
   "execution_count": 67,
   "metadata": {},
   "outputs": [],
   "source": [
    "my_nb1 = 9\n",
    "my_nb2 = 13\n",
    "\n",
    "my_heighest_nb = heighest_number(my_nb1)"
   ]
  },
  {
   "cell_type": "markdown",
   "metadata": {},
   "source": [
    "# ------------------------------------------------------------------------------------------------------------\n",
    "# Exercises\n",
    "\n"
   ]
  },
  {
   "cell_type": "markdown",
   "metadata": {},
   "source": [
    "# 1\n",
    "Write a function that gets a number as argument and return a list of numbers from 0 to this number"
   ]
  },
  {
   "cell_type": "markdown",
   "metadata": {},
   "source": [
    "# ------------------------------------------------------------------------------------------------------------\n"
   ]
  },
  {
   "cell_type": "markdown",
   "metadata": {},
   "source": [
    "# Playing with lists"
   ]
  },
  {
   "cell_type": "markdown",
   "metadata": {},
   "source": [
    "## 1. Modifying list in a function"
   ]
  },
  {
   "cell_type": "markdown",
   "metadata": {},
   "source": [
    "# ------------------------------------------------------------------------------------------------------------\n",
    "# Exercises\n",
    "\n"
   ]
  },
  {
   "cell_type": "markdown",
   "metadata": {},
   "source": [
    "## 1\n",
    "\n",
    "Write a function that take a list of first names as argument and add \"Smith\" to each one (this function is supposed to modify the original list)"
   ]
  },
  {
   "cell_type": "markdown",
   "metadata": {},
   "source": [
    "## 2\n",
    "\n",
    "Write a function that reverse a list"
   ]
  },
  {
   "cell_type": "markdown",
   "metadata": {},
   "source": [
    "# ------------------------------------------------------------------------------------------------------------\n"
   ]
  },
  {
   "cell_type": "markdown",
   "metadata": {},
   "source": [
    "# Storing our functions in a file"
   ]
  },
  {
   "cell_type": "markdown",
   "metadata": {},
   "source": [
    "## 1. Import a module"
   ]
  },
  {
   "cell_type": "markdown",
   "metadata": {},
   "source": [
    " Make a file my_functions.py with those functions inside:"
   ]
  },
  {
   "cell_type": "code",
   "execution_count": 81,
   "metadata": {},
   "outputs": [],
   "source": [
    "def add_numbers(nb1,nb2):\n",
    "    return nb1+nb2\n",
    "\n",
    "def sub_numbers(nb1, nb2):\n",
    "    return nb1-nb2"
   ]
  },
  {
   "cell_type": "markdown",
   "metadata": {},
   "source": [
    "In another python file, we can import those functions by the following methods"
   ]
  },
  {
   "cell_type": "code",
   "execution_count": null,
   "metadata": {},
   "outputs": [],
   "source": [
    "import my_functions # This will import the file as a variable\n",
    "                    # To access a function: function.add_numbers\n",
    "from my_functions import add_numbers # Import a specific function from functions\n",
    "from my_functions import *"
   ]
  }
 ],
 "metadata": {
  "kernelspec": {
   "display_name": "Python 3",
   "language": "python",
   "name": "python3"
  },
  "language_info": {
   "codemirror_mode": {
    "name": "ipython",
    "version": 3
   },
   "file_extension": ".py",
   "mimetype": "text/x-python",
   "name": "python",
   "nbconvert_exporter": "python",
   "pygments_lexer": "ipython3",
   "version": "3.6.5"
  }
 },
 "nbformat": 4,
 "nbformat_minor": 2
}
