{
 "cells": [
  {
   "cell_type": "markdown",
   "metadata": {},
   "source": [
    "## Tic Tac Toe Project"
   ]
  },
  {
   "cell_type": "code",
   "execution_count": 8,
   "metadata": {},
   "outputs": [
    {
     "name": "stdout",
     "output_type": "stream",
     "text": [
      "-------------\n",
      "| O |   | X |\n",
      "-------------\n",
      "|   | O |   |\n",
      "-------------\n",
      "|   |   | O |\n",
      "-------------\n"
     ]
    }
   ],
   "source": [
    "def print_board(board):\n",
    "    print(\"-------------\")\n",
    "    for line in board: \n",
    "        for column in line: \n",
    "            print(\"| {} \".format(column),end=\"\")\n",
    "        print(\"|\\n-------------\")\n",
    "        \n",
    "b=[[\"O\",\" \",\"X\",],[\" \",\"O\",\" \"],[\" \",\" \",\"O\"]]\n",
    "print_board(b)"
   ]
  },
  {
   "cell_type": "code",
   "execution_count": 7,
   "metadata": {},
   "outputs": [
    {
     "ename": "SyntaxError",
     "evalue": "invalid syntax (<ipython-input-7-805cec024b4b>, line 17)",
     "output_type": "error",
     "traceback": [
      "\u001b[0;36m  File \u001b[0;32m\"<ipython-input-7-805cec024b4b>\"\u001b[0;36m, line \u001b[0;32m17\u001b[0m\n\u001b[0;31m    if(b.is_there_a_winner())\u001b[0m\n\u001b[0m                             ^\u001b[0m\n\u001b[0;31mSyntaxError\u001b[0m\u001b[0;31m:\u001b[0m invalid syntax\n"
     ]
    }
   ],
   "source": [
    "#Main code\n",
    "#Step 1: Create the board\n",
    "# Ask siwe of the board\n",
    "b=Board(width,lenth)\n",
    "\n",
    "#Step 2 create players\n",
    "p1=Player1()\n",
    "p2=Player2()\n",
    "active_player=p1\n",
    "\n",
    "while(True):\n",
    "    if b.isFull():\n",
    "        #end of game\n",
    "        break;\n",
    "    else:\n",
    "        active_player.play(b)\n",
    "        if(b.is_there_a_winner())\n",
    "            print(\"End of the Game\")\n",
    "            break;\n",
    "        \n",
    "        if active_player==p1:\n",
    "            active_player=p2\n",
    "        else:\n",
    "            active_player=p1\n",
    "    "
   ]
  },
  {
   "cell_type": "code",
   "execution_count": null,
   "metadata": {},
   "outputs": [],
   "source": []
  }
 ],
 "metadata": {
  "kernelspec": {
   "display_name": "Python 3",
   "language": "python",
   "name": "python3"
  },
  "language_info": {
   "codemirror_mode": {
    "name": "ipython",
    "version": 3
   },
   "file_extension": ".py",
   "mimetype": "text/x-python",
   "name": "python",
   "nbconvert_exporter": "python",
   "pygments_lexer": "ipython3",
   "version": "3.7.3"
  }
 },
 "nbformat": 4,
 "nbformat_minor": 2
}
