{
 "cells": [
  {
   "cell_type": "code",
   "execution_count": null,
   "metadata": {},
   "outputs": [],
   "source": [
    "#Exercise 1\n",
    "class Triangle(object):\n",
    "     def __init__(self,angle1,angle2,angle3):\n",
    "         self.angle1=angle1\n",
    "         self.angle2=angle2\n",
    "         self.angle3=angle3\n",
    "\n",
    "     number_of_sides=3\n",
    "     def check_angles(self):\n",
    "         if self.angle1+self.angle2+self.angle3 ==180:\n",
    "             return True\n",
    "         else:\n",
    "             return False\n",
    "\n",
    "\n",
    "my_triangle=Triangle(90,30,60)\n",
    "print my_triangle.number_of_sides\n",
    "print my_triangle.check_angles()"
   ]
  },
  {
   "cell_type": "code",
   "execution_count": null,
   "metadata": {},
   "outputs": [],
   "source": []
  },
  {
   "cell_type": "code",
   "execution_count": null,
   "metadata": {},
   "outputs": [],
   "source": [
    "Exercise 2\n",
    ">>> class Song(object):\n",
    "...   def __init__(self, lyrics):\n",
    "...      self.lyrics=lyrics\n",
    "...   def sing_me_a_song(self):\n",
    "...      for line in self.lyrics:\n",
    "...           print line\n",
    "...\n",
    ">>>\n",
    ">>> happy_bday = Song([\"May god bless you, \",\n",
    "...                    \"Have a sunshine on you,\",\n",
    "...                    \"Happy Birthday to you !\"])\n",
    ">>>\n",
    ">>> print happy_bday.sing_me_a_song()\n",
    "May god bless you,\n",
    "Have a sunshine on you,\n",
    "Happy Birthday to you !\n",
    "None\n",
    ">>>\n",
    "Exercise 3\n",
    "You can copy this code in a file called menu.py:\n",
    "\n",
    "class Lunch(object):\n",
    "    def __init__(self,menu):\n",
    "      self.menu=menu\n",
    "\n",
    "    def menu_price(self):\n",
    "       if self.menu==\"menu 1\":\n",
    "          print \"Your choice:\", menu, \"Price 12.00\"\n",
    "       elif self.menu==\"menu 2\":\n",
    "          print \"Your choice:\", menu, \"Price 13.40\"\n",
    "       else:\n",
    "          print \"Error in menu\"\n",
    "\n",
    "Paul=Lunch(\"menu 1\")\n",
    "Paul.menu_price()\n"
   ]
  }
 ],
 "metadata": {
  "kernelspec": {
   "display_name": "Python 3",
   "language": "python",
   "name": "python3"
  },
  "language_info": {
   "codemirror_mode": {
    "name": "ipython",
    "version": 3
   },
   "file_extension": ".py",
   "mimetype": "text/x-python",
   "name": "python",
   "nbconvert_exporter": "python",
   "pygments_lexer": "ipython3",
   "version": "3.7.3"
  }
 },
 "nbformat": 4,
 "nbformat_minor": 2
}
