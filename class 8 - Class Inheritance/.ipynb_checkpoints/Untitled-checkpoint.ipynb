{
 "cells": [
  {
   "cell_type": "markdown",
   "metadata": {},
   "source": [
    "<h1>Python Inheritance</h1>\n",
    "<p>Inheritance is a concept in object-oriented programming in which a class derives (or <strong>inherits</strong>) attributes and behaviors from another class without needing to implement them again. </p>\n",
    "\n",
    "Inheritance allows us to define a class that inherits all the methods and properties from another class.<br>\n",
    "\n",
    "Parent class is the class being inherited from, also called base class.<br>\n",
    "\n",
    "Child class is the class that inherits from another class, also called derived class<br>"
   ]
  },
  {
   "cell_type": "code",
   "execution_count": 5,
   "metadata": {},
   "outputs": [
    {
     "name": "stdout",
     "output_type": "stream",
     "text": [
      "John Doe\n"
     ]
    }
   ],
   "source": [
    "class Person:\n",
    "  def __init__(self, fname, lname):\n",
    "    self.firstname = fname\n",
    "    self.lastname = lname\n",
    "\n",
    "  def printall(self):\n",
    "    print(self.firstname, self.lastname)\n",
    "\n",
    "x = Person(\"John\", \"Doe\")\n",
    "x.printall()"
   ]
  },
  {
   "cell_type": "code",
   "execution_count": 9,
   "metadata": {},
   "outputs": [
    {
     "name": "stdout",
     "output_type": "stream",
     "text": [
      "aaa bbbb\n",
      "2019\n"
     ]
    }
   ],
   "source": [
    "class Student(Person):\n",
    "    def __init__(self, fname, lname):\n",
    "        Person.__init__(self, fname, lname)\n",
    "        self.graduationyear = 2019\n",
    "    \n",
    "    def printGraduation(self):\n",
    "        print(\"My year of graduation is {}\",self.graduationyear)\n",
    "        \n",
    "    def printall(self):\n",
    "        Person.printall(self)\n",
    "        print(self.graduationyear)\n",
    "        \n",
    "s=Student(\"aaa\",\"bbbb\")\n",
    "s.printall()"
   ]
  },
  {
   "cell_type": "markdown",
   "metadata": {},
   "source": [
    "<h2 id=\"an-overview-of-pythons-super-function\"><code>super()</code> Function</h2>\n",
    "<p><code>super()</code> alone returns a temporary object of the superclass that then allows you to call that superclass&rsquo;s methods. </p>\n",
    "<p>A common use case is building classes that extend the functionality of previously built classes. </p>\n"
   ]
  },
  {
   "cell_type": "code",
   "execution_count": null,
   "metadata": {},
   "outputs": [],
   "source": []
  },
  {
   "cell_type": "markdown",
   "metadata": {},
   "source": [
    "<h2 id=\"super-in-single-inheritance\"><code>super()</code> in Single Inheritance</h2>\n",
    "\n",
    "<p>For me at least, it&rsquo;s easier to understand these concepts when looking at code, so let&rsquo;s write classes describing some shapes:</p>"
   ]
  },
  {
   "cell_type": "code",
   "execution_count": 12,
   "metadata": {},
   "outputs": [
    {
     "name": "stdout",
     "output_type": "stream",
     "text": [
      "16\n",
      "8\n"
     ]
    }
   ],
   "source": [
    "class Rectangle:\n",
    "    def __init__(self, length, width):\n",
    "        self.length = length\n",
    "        self.width = width\n",
    "\n",
    "    def area(self):\n",
    "        return self.length * self.width\n",
    "\n",
    "    def perimeter(self):\n",
    "        return 2 * self.length + 2 * self.width\n",
    "\n",
    "class Square:\n",
    "    def __init__(self, length):\n",
    "        self.length = length\n",
    "\n",
    "    def area(self):\n",
    "        return self.length * self.length\n",
    "\n",
    "    def perimeter(self):\n",
    "        return 4 * self.length\n",
    "    \n",
    "square = Square(4)\n",
    "print(square.area())\n",
    "\n",
    "rectangle = Rectangle(2,4)\n",
    "print(rectangle.area())\n"
   ]
  },
  {
   "cell_type": "markdown",
   "metadata": {},
   "source": [
    "<p>In this example, you have two shapes that are related to each other: a square is a special kind of rectangle. The code, however, doesn&rsquo;t reflect that relationship and thus has code that is essentially repeated. </p>\n",
    "\n",
    "<p>By using inheritance, you can reduce the amount of code you write while simultaneously reflecting the real-world relationship between rectangles and squares:</p>\n"
   ]
  },
  {
   "cell_type": "code",
   "execution_count": 15,
   "metadata": {},
   "outputs": [
    {
     "data": {
      "text/plain": [
       "16"
      ]
     },
     "execution_count": 15,
     "metadata": {},
     "output_type": "execute_result"
    }
   ],
   "source": [
    "class Rectangle:\n",
    "    def __init__(self, length, width):\n",
    "        self.length = length\n",
    "        self.width = width\n",
    "\n",
    "    def area(self):\n",
    "        return self.length * self.width\n",
    "\n",
    "    def perimeter(self):\n",
    "        return 2 * self.length + 2 * self.width\n",
    "\n",
    "# Here we declare that the Square class inherits from the Rectangle class\n",
    "class Square(Rectangle):\n",
    "    def __init__(self, length):\n",
    "        super().__init__(length, length)\n",
    "        \n",
    "square = Square(4)\n",
    "square.area()"
   ]
  },
  {
   "cell_type": "code",
   "execution_count": null,
   "metadata": {},
   "outputs": [],
   "source": []
  },
  {
   "cell_type": "markdown",
   "metadata": {},
   "source": [
    "<p>Here, you&rsquo;ve used <code>super()</code> to call the <code>__init__()</code> of the <code>Rectangle</code> class, allowing you to use it in the <code>Square</code> class without repeating code. </p>\n",
    "\n",
    "<p>In this example, <code>Rectangle</code> is the superclass, and <code>Square</code> is the subclass. </p>\n",
    "<p>Because the <code>Square</code> and <code>Rectangle</code> <code>.__init__()</code> methods are so similar, you can simply call the superclass&rsquo;s <code>.__init__()</code> method (<code>Rectangle.__init__()</code>) from that of <code>Square</code> by using <code>super()</code>. This sets the <code>.length</code> and <code>.width</code> attributes even though you just had to supply a single <code>length</code> parameter to the <code>Square</code> constructor.</p>\n",
    "<p>When you run this, even though your <code>Square</code> class doesn&rsquo;t explicitly implement it, the call to <code>.area()</code> will use the <code>.area()</code> method in the superclass and print <code>16</code>. The <code>Square</code> class <strong>inherited</strong> <code>.area()</code> from the <code>Rectangle</code> class.</p>\n"
   ]
  },
  {
   "cell_type": "code",
   "execution_count": null,
   "metadata": {},
   "outputs": [],
   "source": []
  }
 ],
 "metadata": {
  "kernelspec": {
   "display_name": "Python 3",
   "language": "python",
   "name": "python3"
  },
  "language_info": {
   "codemirror_mode": {
    "name": "ipython",
    "version": 3
   },
   "file_extension": ".py",
   "mimetype": "text/x-python",
   "name": "python",
   "nbconvert_exporter": "python",
   "pygments_lexer": "ipython3",
   "version": "3.7.3"
  }
 },
 "nbformat": 4,
 "nbformat_minor": 2
}
