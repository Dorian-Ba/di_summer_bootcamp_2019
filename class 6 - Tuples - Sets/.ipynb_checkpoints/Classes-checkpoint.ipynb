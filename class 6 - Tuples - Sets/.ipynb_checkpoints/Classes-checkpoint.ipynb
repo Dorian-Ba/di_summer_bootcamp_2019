{
 "cells": [
  {
   "cell_type": "markdown",
   "metadata": {},
   "source": [
    "# Classes"
   ]
  },
  {
   "cell_type": "markdown",
   "metadata": {},
   "source": [
    "Python is an object oriented programming language.<br>\n",
    "Almost __everything__ in python is an object"
   ]
  },
  {
   "cell_type": "markdown",
   "metadata": {},
   "source": [
    "An object is an entity that have two types of properties: attributes and methods.<br>\n",
    "\n",
    "A Class is like an object constructor, or a \"blueprint\" for creating objects.\n",
    "\n"
   ]
  },
  {
   "cell_type": "markdown",
   "metadata": {},
   "source": [
    "<h2>Create a Class</h2>\n",
    "<p>To create a class, use the keyword <b>class</b>:</p>\n",
    "\n",
    "```python\n",
    "#Create a class named MyClass, with an attribute named x:\n",
    "class MyClass:\n",
    "    x = 5\n",
    "```\n",
    "\n",
    "<h2>Create Object</h2>\n",
    "<p>Now we can use the class named myClass to create objects:</p>\n",
    "\n",
    "```python\n",
    "#Create an object named p1, and print the value of x:\n",
    "p1 = MyClass()\n",
    "print(p1.x)\n",
    "```\n",
    "\n",
    "This object has attributes, we can access them via `object_name.attribute_name`"
   ]
  },
  {
   "cell_type": "markdown",
   "metadata": {},
   "source": [
    "<h2>The __init__() Function</h2>\n",
    "\n",
    "<p>The examples above are classes and objects in their simplest form, and are not really useful in real life applications.</p>\n",
    "<p>To understand the meaning of classes we have to understand the built-in __init__() function.</p>\n",
    "\n",
    "<p>All classes have a function called __init__(), which is always executed when the class is being initiated.</p>\n",
    "\n",
    "<p>Use the __init__() function to assign values to object attributes:</p>"
   ]
  },
  {
   "cell_type": "code",
   "execution_count": 1,
   "metadata": {},
   "outputs": [
    {
     "name": "stdout",
     "output_type": "stream",
     "text": [
      "John\n",
      "36\n"
     ]
    }
   ],
   "source": [
    " #Create a class named Person, use the __init__() function to assign values \n",
    "class Person:\n",
    "    def __init__(self, name, age):\n",
    "      self.name = name\n",
    "      self.age = age\n",
    "        \n",
    "p1 = Person('John',36)\n",
    "print(p1.name)\n",
    "print(p1.age)"
   ]
  },
  {
   "cell_type": "code",
   "execution_count": 7,
   "metadata": {},
   "outputs": [
    {
     "name": "stdout",
     "output_type": "stream",
     "text": [
      "2\n",
      "4\n"
     ]
    }
   ],
   "source": [
    "class Human(): # Creating a new class --> A new object builder\n",
    "    def __init__(self): # Creating the __init__ function, which will                                                   # be called on the creation of an object\n",
    "        self.number_of_eyes = 2       # Adding an attribute to this object\n",
    "\n",
    "my_human = Human()             # Creating a new object of the class Human\n",
    "print(my_human.number_of_eyes)\n",
    "my_human.number_of_eyes = 4    # Modifying the number_of_eyes attribute of my_human\n",
    "print(my_human.number_of_eyes)"
   ]
  },
  {
   "cell_type": "markdown",
   "metadata": {},
   "source": [
    "<h2>Object Methods</h2>\n",
    "\n",
    "<p>Objects can also contain methods. Methods in objects are functions that \n",
    "belong to the object.</p>\n",
    "<p>Let us create a method in the Person class:</p>\n",
    "<div class=\"w3-example\">\n",
    "  <h3>Example</h3>\n",
    "<p>Insert a method that prints a greeting, and execute it on the p1 object:</p>"
   ]
  },
  {
   "cell_type": "code",
   "execution_count": 4,
   "metadata": {},
   "outputs": [
    {
     "name": "stdout",
     "output_type": "stream",
     "text": [
      "Hello my name is John\n"
     ]
    }
   ],
   "source": [
    "class Person:\n",
    "  def __init__(self, name, age):\n",
    "    self.name = name\n",
    "    self.age = age\n",
    "\n",
    "  def myfunc(self):\n",
    "    print(\"Hello my name is \" + self.name)\n",
    "\n",
    "p1 = Person(\"John\", 36)\n",
    "p1.myfunc()"
   ]
  },
  {
   "cell_type": "code",
   "execution_count": 8,
   "metadata": {},
   "outputs": [
    {
     "name": "stdout",
     "output_type": "stream",
     "text": [
      "Homer is eating\n",
      "Marge is eating\n",
      "Marge is eating\n"
     ]
    }
   ],
   "source": [
    "class Human(): \n",
    "    def __init__(self, name, age):  \n",
    "        \n",
    "        self.name = name  \n",
    "        self.age  = age\n",
    "        self.number_of_eyes = 2\n",
    "    \n",
    "    def eat(self): # Declaring a new method of Human\n",
    "        print(\"{} is eating\".format(self.name))\n",
    "\n",
    "another_human = Human(\"Homer\",35)\n",
    "marge = Human(\"Marge\",30)\n",
    "\n",
    "another_human.eat()\n",
    "marge.eat()\n",
    "marge.eat()"
   ]
  },
  {
   "cell_type": "markdown",
   "metadata": {},
   "source": [
    "<div class=\"w3-panel w3-note\">\n",
    "  <p><strong>Note:</strong> The <code class=\"w3-codespan\">self</code> parameter \n",
    "  is a reference to the current instance of the class, and is used to access variables that belong to the class.</p>\n",
    "</div>\n",
    "\n",
    "<hr>\n"
   ]
  },
  {
   "cell_type": "markdown",
   "metadata": {},
   "source": [
    "<h2>The self Parameter</h2>\n",
    "<p>The <code class=\"w3-codespan\">self</code> parameter is a reference to the \n",
    "current instance of the class, and is used to access variables that belongs to the class.</p>\n",
    "<p>It does not have to be named <code class=\"w3-codespan\">self</code> , you can \n",
    "call it whatever you like, but it has to be the first parameter of any function \n",
    "in the class:</p>\n",
    "\n",
    "\n",
    "<h3>Example</h3>\n"
   ]
  },
  {
   "cell_type": "code",
   "execution_count": 6,
   "metadata": {},
   "outputs": [
    {
     "name": "stdout",
     "output_type": "stream",
     "text": [
      "Hello my name is John\n"
     ]
    }
   ],
   "source": [
    "#Use the words mysillyobject and abc instead of self:\n",
    "\n",
    "class Person:\n",
    "  def __init__(mysillyobject, name, age):\n",
    "    mysillyobject.name = name\n",
    "    mysillyobject.age = age\n",
    "\n",
    "  def myfunc(abc):\n",
    "    print(\"Hello my name is \" + abc.name)\n",
    "\n",
    "p1 = Person(\"John\", 36)\n",
    "p1.myfunc()"
   ]
  },
  {
   "cell_type": "markdown",
   "metadata": {},
   "source": [
    "\n",
    "<h2>Modify Object Properties</h2>\n",
    "\n",
    "<p>You can modify properties on objects like this:</p>\n",
    "\n",
    "<div class=\"w3-example\">\n",
    "<h3>Example</h3>\n",
    "<p>Set the age of p1 to 40:</p>\n",
    "\n",
    "```python\n",
    "p1.age = 40\n",
    "```\n",
    "  \n",
    "<h2>Delete Object Properties</h2>\n",
    "\n",
    "<p>You can delete properties on objects by using the <code class=\"w3-codespan\">\n",
    "del</code> keyword:</p>\n",
    "\n",
    "<div class=\"w3-example\">\n",
    "<h3>Example</h3>\n",
    "<p>Delete the age property from the p1 object:</p>\n",
    "\n",
    "```python\n",
    "del p1.age\n",
    "```\n",
    "\n",
    "<h2>Delete Objects</h2>\n",
    "\n",
    "<p>You can delete objects by using the <code class=\"w3-codespan\">del</code> keyword:</p>\n",
    "\n",
    "<div class=\"w3-example\">\n",
    "<h3>Example</h3>\n",
    "<p>Delete the p1 object:</p>\n",
    "\n",
    "```python\n",
    "del p1\n",
    "```"
   ]
  },
  {
   "cell_type": "markdown",
   "metadata": {},
   "source": [
    "### Exercice\n",
    "1-Create a `Car` class, this class need the following attributes to be instanciated:<br>\n",
    "-  Brand\n",
    "-  Model\n",
    "-  Color\n",
    "<br>\n",
    "\n",
    "All car created starts with 0 km<br>\n",
    "All car created starts with 0 fuel<br>\n",
    "\n",
    "2-Create a method descrition to print description of the car.\n",
    "Example:<br>\n",
    "This car is a Chevrolet Spark black, it has 0 kilometers<br>\n",
    "\n"
   ]
  },
  {
   "cell_type": "code",
   "execution_count": 16,
   "metadata": {
    "scrolled": true
   },
   "outputs": [
    {
     "name": "stdout",
     "output_type": "stream",
     "text": [
      "This car is a Blue Chevrolet Spark, it has 80000 kilometers\n"
     ]
    }
   ],
   "source": [
    "my_car.description()"
   ]
  },
  {
   "cell_type": "markdown",
   "metadata": {},
   "source": [
    "### IS THE SAME THING AS"
   ]
  },
  {
   "cell_type": "markdown",
   "metadata": {},
   "source": [
    "Car.description(my_car)"
   ]
  }
 ],
 "metadata": {
  "kernelspec": {
   "display_name": "Python 3",
   "language": "python",
   "name": "python3"
  },
  "language_info": {
   "codemirror_mode": {
    "name": "ipython",
    "version": 3
   },
   "file_extension": ".py",
   "mimetype": "text/x-python",
   "name": "python",
   "nbconvert_exporter": "python",
   "pygments_lexer": "ipython3",
   "version": "3.7.3"
  }
 },
 "nbformat": 4,
 "nbformat_minor": 2
}
