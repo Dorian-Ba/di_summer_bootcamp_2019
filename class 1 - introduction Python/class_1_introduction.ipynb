{
 "cells": [
  {
   "cell_type": "markdown",
   "metadata": {},
   "source": [
    "## Introduction\n",
    "Python is\n",
    "- popular programming language. \n",
    "- created by Guido Van Rossum\n",
    "- released in 1991.\n",
    "\n",
    "It is used for:\n",
    "- web development (server-side),\n",
    "- software development,\n",
    "- mathematics,\n",
    "- system scripting."
   ]
  },
  {
   "cell_type": "markdown",
   "metadata": {},
   "source": [
    "## Python installation\n",
    "To check if you have python installed on a Windows PC, search in the start bar for Python or run the following on the Command Line:\n",
    "\n",
    "```python\n",
    "C:\\Users\\Your Name>python --version\n",
    "```\n",
    "<b>if Python is not installed you can download it from: https://www.python.org/downloads/</b>"
   ]
  },
  {
   "cell_type": "markdown",
   "metadata": {},
   "source": [
    "## First Python Program\n",
    "\n",
    "Python is an interpreted programming language, this means that you write Python (.py) file in a text editor and then send it into the python interpreter to be executed.\n",
    "\n",
    "### How to do it\n",
    "\n",
    "- Step 1: Install a text editor like Sublime: https://www.sublimetext.com/\n",
    "- Step 2: Create a file with on line and save it as __helloworld.py__\n",
    "```python\n",
    "print('hello world')\n",
    "```\n",
    "- Step 3: Open your command line, navigate to the directory where you saved your file via the command cd.\n",
    "- Step 4: Execute the following command:\n",
    "```python\n",
    "C:\\Users\\Your Name>python helloworld.py\n",
    "```\n",
    "\n",
    "\n"
   ]
  },
  {
   "cell_type": "markdown",
   "metadata": {},
   "source": [
    "## Python command line\n",
    "To test a short amount of code in python sometimes it is quickest and easiest not to write the code in a file. This is made possible because Python can be run as a command line itself.\n",
    "To do this type python\n",
    "\n",
    "To quit the python command line interface type __exit()__\n",
    "\n",
    "### Practice:\n",
    "<font color='blue'>\n",
    "Use the command to print 'Hello World'\n",
    "</font>"
   ]
  },
  {
   "cell_type": "markdown",
   "metadata": {},
   "source": [
    "## Comment\n",
    "\n",
    "Comments can be used to explain Python code.\n",
    "Comments starts with a #, and Python interpreter will ignore those lines\n",
    "\n",
    "```python\n",
    "#create a new variable to store your message\n",
    "hello='hello world'\n",
    "print(hello)\n",
    "```\n"
   ]
  },
  {
   "cell_type": "markdown",
   "metadata": {},
   "source": [
    "## Variable\n",
    "Variables are containers for storing data values.<br>\n",
    "After creating the variable you can access to the related value  by calling the name of the variable\n",
    "```python\n",
    "hello='hello world'\n",
    "print(hello)\n",
    "```\n",
    "\n",
    "### Basic types of variable:\n",
    "- integer is a whole number positive or negative, without decimals: \n",
    "```python\n",
    "counter = 100          # An integer assignment\n",
    "```\n",
    "- float is a number, positive or negative, containing one or more decimals.\n",
    "```python\n",
    "miles   = 1000.0       # A floating point\n",
    "```\n",
    "- string is a sequence of alpha and numeric characters\n",
    "```python\n",
    "name    = \"John\"       # A string\n",
    "```\n",
    "\n",
    "__To convert a non-string variable to a string variable use the function str()__<br>\n",
    "```python\n",
    "quantity    = 40       \n",
    "quantity_str=str(quantity)\n",
    "```\n",
    "__To combine both text and a variable, Python uses the + character__\n",
    "```python\n",
    "message= 'Hello, How are you '       \n",
    "name='Dorian'\n",
    "full_message=message+name\n",
    "```\n",
    "__To verify the type of any object in Python, use the type() function__\n",
    "```python\n",
    "message= 'Hello, How are you '       \n",
    "print(type(str))\n",
    "```"
   ]
  },
  {
   "cell_type": "code",
   "execution_count": 6,
   "metadata": {},
   "outputs": [
    {
     "name": "stdout",
     "output_type": "stream",
     "text": [
      "<class 'str'>\n"
     ]
    }
   ],
   "source": []
  },
  {
   "cell_type": "markdown",
   "metadata": {},
   "source": [
    "## Exercise 1 – Simple Greeter\n",
    "\n",
    "1. Create a variable called ‘name’, and give it your name as a value (text)\n",
    "2. Create a variable called ‘age’, and give it your age as a value (number)\n",
    "3. Create a variable called ‘shoe_size’, and give it your shoe size as a value (number)\n",
    "4. Create a variable called ‘info’. Its value should be an interesting sentence about yourself,\n",
    "including your name, age, and shoe size. Use the variables you created earlier.\n",
    "5. Write code so that when your script is run, the ‘info’ message is displayed onscreen.\n",
    "6. Run your code"
   ]
  },
  {
   "cell_type": "code",
   "execution_count": 11,
   "metadata": {},
   "outputs": [
    {
     "name": "stdout",
     "output_type": "stream",
     "text": [
      "Hello I am Do I am 37 and my shoes size is 45\n"
     ]
    }
   ],
   "source": [
    "name=\"Do\"\n",
    "age=37\n",
    "shoe_size=45\n",
    "info=\"Hello I am \"+name+\" I am \"+str(age)+\" and my shoes size is \"+str(shoe_size)\n",
    "print(info)"
   ]
  },
  {
   "cell_type": "markdown",
   "metadata": {},
   "source": [
    "#### Variable Names\n",
    "A variable should have a descriptive name (age, carname, total_volume). \n",
    "Rules for Python variables:\n",
    "- A variable name must start with a letter or the underscore character\n",
    "- A variable name cannot start with a number\n",
    "- A variable name can only contain alpha-numeric characters and underscores (A-z, 0-9, and _ )\n",
    "- Variable names are case-sensitive (age, Age and AGE are three different variables)\n"
   ]
  },
  {
   "cell_type": "markdown",
   "metadata": {},
   "source": [
    "## Get input from users \n",
    "The input() function allows user input.\n",
    "```python\n",
    "x = input('Enter your name:')\n",
    "print('Hello, ' + x)\n",
    "```"
   ]
  },
  {
   "cell_type": "markdown",
   "metadata": {},
   "source": [
    "## Exercise 2 – Interactive Greeter\n",
    "1. Extend the Simple Greeter that we worked on earlier\n",
    "2. Get name, age, and shoe size from the user’s input. Make sure you present meaningful prompts.\n",
    "3. Run your code with Python on the command line"
   ]
  },
  {
   "cell_type": "code",
   "execution_count": 12,
   "metadata": {},
   "outputs": [
    {
     "name": "stdout",
     "output_type": "stream",
     "text": [
      "What is your name:Dorian\n",
      "What is your age:37\n",
      "What is your shoes size45\n",
      "Hello I am Dorian I am 37 and my shoes size is 45\n"
     ]
    }
   ],
   "source": [
    "name=input('What is your name:')\n",
    "age=input('What is your age:')\n",
    "shoe_size=input('What is your shoes size')\n",
    "\n",
    "info=\"Hello I am \"+name+\" I am \"+str(age)+\" and my shoes size is \"+str(shoe_size)\n",
    "print(info)"
   ]
  },
  {
   "cell_type": "markdown",
   "metadata": {},
   "source": [
    "## String format\n",
    "\n",
    "str.format() allows multiple substitutions and value formatting. \n",
    "- lets us concatenate elements within a string through positional formatting.\n",
    "- convert automatically non string value or varaible into a string\n",
    "\n",
    "using format option in a simple string \n",
    "print (\"{}, A computer science portal for geeks.\"\n",
    "                        .format(\"GeeksforGeeks\")) \n",
    " \n",
    "```python \n",
    "# value stored in a variable \n",
    "article = \"This article is written in {}\"\n",
    "print (article.format(\"Python\")) \n",
    "  \n",
    "# formatting a string using a numeric constant \n",
    "print (\"Hello, I am {} years old !\".format(18))  \n",
    "```"
   ]
  },
  {
   "cell_type": "markdown",
   "metadata": {},
   "source": [
    "## Exercise 3 – Interactive Greeter\n",
    "1. Extend the Simple Greeter that we worked on earlier\n",
    "2. Get name, age, and shoe size from the user’s input. Make sure you present meaningful prompts.\n",
    "3. Do this exercise with string formatting (f-strings)\n",
    "4. Run your code with Python on the command line"
   ]
  },
  {
   "cell_type": "code",
   "execution_count": 13,
   "metadata": {},
   "outputs": [
    {
     "name": "stdout",
     "output_type": "stream",
     "text": [
      "What is your name:do\n",
      "What is your age:45\n",
      "What is your shoes size45\n",
      "Hello I am do I am 45 and my shoes size is 45\n"
     ]
    }
   ],
   "source": [
    "name=input('What is your name:')\n",
    "age=input('What is your age:')\n",
    "shoe_size=input('What is your shoes size')\n",
    "\n",
    "info_model=\"Hello I am {} I am {} and my shoes size is {}\"\n",
    "info_model_with_values=info_model.format(name,age,shoe_size)\n",
    "print(info_model_with_values)"
   ]
  },
  {
   "cell_type": "markdown",
   "metadata": {},
   "source": [
    "## Python Arithmetic Operators\n",
    "Arithmetic operators are used with numeric values to perform common mathematical operations:\n",
    "\n",
    "Operator\tName\tExample\tTry it\n",
    "* Addition\tx + y\t\n",
    "* Subtraction\tx - y\t\n",
    "* Multiplication\tx * y\t\n",
    "* Division\tx / y\n",
    "\n",
    "```python\n",
    "operation = 5+10\n",
    "```"
   ]
  },
  {
   "cell_type": "markdown",
   "metadata": {},
   "source": [
    "## Exercice \n",
    "Write a Python program to convert km to miles. Go to the editor\n",
    "1 km=0,62 mile\n",
    "\n",
    "Test Data:\n",
    "Insert km : 10\n",
    "Expected Result in Miles: 6,21"
   ]
  },
  {
   "cell_type": "code",
   "execution_count": 19,
   "metadata": {},
   "outputs": [
    {
     "name": "stdout",
     "output_type": "stream",
     "text": [
      "Insert km value:10\n",
      "10.0 km are 6.2 miles\n"
     ]
    }
   ],
   "source": [
    "km=input(\"Insert km value:\")\n",
    "km_float=float(km)\n",
    "ml_float=km_float*0.62\n",
    "message_model=\"{} km are {} miles\"\n",
    "message_model_value=message_model.format(km_float,ml_float)\n",
    "print(message_model_value)\n",
    "\n"
   ]
  }
 ],
 "metadata": {
  "kernelspec": {
   "display_name": "Python 3",
   "language": "python",
   "name": "python3"
  },
  "language_info": {
   "codemirror_mode": {
    "name": "ipython",
    "version": 3
   },
   "file_extension": ".py",
   "mimetype": "text/x-python",
   "name": "python",
   "nbconvert_exporter": "python",
   "pygments_lexer": "ipython3",
   "version": "3.7.3"
  }
 },
 "nbformat": 4,
 "nbformat_minor": 2
}
